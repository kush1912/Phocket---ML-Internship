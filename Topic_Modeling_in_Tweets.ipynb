{
  "nbformat": 4,
  "nbformat_minor": 0,
  "metadata": {
    "colab": {
      "name": "Topic Modeling in Tweets.ipynb",
      "version": "0.3.2",
      "provenance": [],
      "collapsed_sections": []
    },
    "kernelspec": {
      "name": "python3",
      "display_name": "Python 3"
    }
  },
  "cells": [
    {
      "cell_type": "markdown",
      "metadata": {
        "id": "ADYf8SP7kQEr",
        "colab_type": "text"
      },
      "source": [
        "##TWEET ANALYSIS"
      ]
    },
    {
      "cell_type": "code",
      "metadata": {
        "id": "_YN_YJ8akwN5",
        "colab_type": "code",
        "colab": {}
      },
      "source": [
        "# Run this cell to mount your Google Drive.\n",
        "from google.colab import drive\n",
        "drive.mount('/content/drive')"
      ],
      "execution_count": 0,
      "outputs": []
    },
    {
      "cell_type": "code",
      "metadata": {
        "id": "P_AfEv8N-6k2",
        "colab_type": "code",
        "colab": {}
      },
      "source": [
        "#  https://ourcodingclub.github.io/2018/12/10/topic-modelling-python.html\n",
        "#  https://www.datacamp.com/community/tutorials/python-regular-expression-tutorial\n",
        "#  https://www.pythonforbeginners.com/basics/list-comprehensions-in-python"
      ],
      "execution_count": 0,
      "outputs": []
    },
    {
      "cell_type": "code",
      "metadata": {
        "id": "ISP-oP1_k4ME",
        "colab_type": "code",
        "colab": {}
      },
      "source": [
        "!ls \"/content/drive/My Drive/Datasets\""
      ],
      "execution_count": 0,
      "outputs": []
    },
    {
      "cell_type": "code",
      "metadata": {
        "id": "3qQ8_6NPgKN-",
        "colab_type": "code",
        "colab": {}
      },
      "source": [
        "import pandas as pd\n",
        "import numpy as np\n",
        "import matplotlib.pyplot as plt\n",
        "import seaborn as sns\n",
        "import sklearn\n",
        "import re"
      ],
      "execution_count": 0,
      "outputs": []
    },
    {
      "cell_type": "code",
      "metadata": {
        "id": "5SRXlHf3kZxn",
        "colab_type": "code",
        "colab": {}
      },
      "source": [
        "df = pd.read_csv('climate_tweets.csv')"
      ],
      "execution_count": 0,
      "outputs": []
    },
    {
      "cell_type": "code",
      "metadata": {
        "id": "gmeIi71hl0O8",
        "colab_type": "code",
        "outputId": "20109334-d804-4959-9500-857cbf13927f",
        "colab": {
          "base_uri": "https://localhost:8080/",
          "height": 221
        }
      },
      "source": [
        "print(df.shape)\n",
        "df.head()"
      ],
      "execution_count": 0,
      "outputs": [
        {
          "output_type": "stream",
          "text": [
            "(6090, 1)\n"
          ],
          "name": "stdout"
        },
        {
          "output_type": "execute_result",
          "data": {
            "text/html": [
              "<div>\n",
              "<style scoped>\n",
              "    .dataframe tbody tr th:only-of-type {\n",
              "        vertical-align: middle;\n",
              "    }\n",
              "\n",
              "    .dataframe tbody tr th {\n",
              "        vertical-align: top;\n",
              "    }\n",
              "\n",
              "    .dataframe thead th {\n",
              "        text-align: right;\n",
              "    }\n",
              "</style>\n",
              "<table border=\"1\" class=\"dataframe\">\n",
              "  <thead>\n",
              "    <tr style=\"text-align: right;\">\n",
              "      <th></th>\n",
              "      <th>tweet</th>\n",
              "    </tr>\n",
              "  </thead>\n",
              "  <tbody>\n",
              "    <tr>\n",
              "      <th>0</th>\n",
              "      <td>Global warming report urges governments to act...</td>\n",
              "    </tr>\n",
              "    <tr>\n",
              "      <th>1</th>\n",
              "      <td>Fighting poverty and global warming in Africa ...</td>\n",
              "    </tr>\n",
              "    <tr>\n",
              "      <th>2</th>\n",
              "      <td>Carbon offsets: How a Vatican forest failed to...</td>\n",
              "    </tr>\n",
              "    <tr>\n",
              "      <th>3</th>\n",
              "      <td>Carbon offsets: How a Vatican forest failed to...</td>\n",
              "    </tr>\n",
              "    <tr>\n",
              "      <th>4</th>\n",
              "      <td>URUGUAY: Tools Needed for Those Most Vulnerabl...</td>\n",
              "    </tr>\n",
              "  </tbody>\n",
              "</table>\n",
              "</div>"
            ],
            "text/plain": [
              "                                               tweet\n",
              "0  Global warming report urges governments to act...\n",
              "1  Fighting poverty and global warming in Africa ...\n",
              "2  Carbon offsets: How a Vatican forest failed to...\n",
              "3  Carbon offsets: How a Vatican forest failed to...\n",
              "4  URUGUAY: Tools Needed for Those Most Vulnerabl..."
            ]
          },
          "metadata": {
            "tags": []
          },
          "execution_count": 15
        }
      ]
    },
    {
      "cell_type": "code",
      "metadata": {
        "id": "GbvhXCPnmvyd",
        "colab_type": "code",
        "outputId": "bc21b289-7fbc-4078-b697-753ad9cee402",
        "colab": {
          "base_uri": "https://localhost:8080/",
          "height": 34
        }
      },
      "source": [
        "df['is_retweet'] = df['tweet'].apply(lambda x: x[:2]=='RT')\n",
        "df['is_retweet'].sum()  "
      ],
      "execution_count": 0,
      "outputs": [
        {
          "output_type": "execute_result",
          "data": {
            "text/plain": [
              "773"
            ]
          },
          "metadata": {
            "tags": []
          },
          "execution_count": 85
        }
      ]
    },
    {
      "cell_type": "code",
      "metadata": {
        "id": "25OV56Lmm6ja",
        "colab_type": "code",
        "outputId": "309a6700-8836-4da5-87a5-e7cdbf29d412",
        "colab": {
          "base_uri": "https://localhost:8080/",
          "height": 34
        }
      },
      "source": [
        "df.loc[df['is_retweet']].tweet.unique().size"
      ],
      "execution_count": 0,
      "outputs": [
        {
          "output_type": "execute_result",
          "data": {
            "text/plain": [
              "677"
            ]
          },
          "metadata": {
            "tags": []
          },
          "execution_count": 17
        }
      ]
    },
    {
      "cell_type": "markdown",
      "metadata": {
        "id": "9Ux883_e86zK",
        "colab_type": "text"
      },
      "source": [
        "###Popular Tweets"
      ]
    },
    {
      "cell_type": "code",
      "metadata": {
        "id": "ASvX-L23khI6",
        "colab_type": "code",
        "outputId": "ebd71564-9344-492a-f1c5-a74e4ad8e7c6",
        "colab": {
          "base_uri": "https://localhost:8080/",
          "height": 359
        }
      },
      "source": [
        "# 10 most repeated tweets\n",
        "df.groupby(['tweet']).size().reset_index(name='counts').sort_values('counts', ascending=False).head(10)"
      ],
      "execution_count": 0,
      "outputs": [
        {
          "output_type": "execute_result",
          "data": {
            "text/html": [
              "<div>\n",
              "<style scoped>\n",
              "    .dataframe tbody tr th:only-of-type {\n",
              "        vertical-align: middle;\n",
              "    }\n",
              "\n",
              "    .dataframe tbody tr th {\n",
              "        vertical-align: top;\n",
              "    }\n",
              "\n",
              "    .dataframe thead th {\n",
              "        text-align: right;\n",
              "    }\n",
              "</style>\n",
              "<table border=\"1\" class=\"dataframe\">\n",
              "  <thead>\n",
              "    <tr style=\"text-align: right;\">\n",
              "      <th></th>\n",
              "      <th>tweet</th>\n",
              "      <th>counts</th>\n",
              "    </tr>\n",
              "  </thead>\n",
              "  <tbody>\n",
              "    <tr>\n",
              "      <th>3131</th>\n",
              "      <td>No matter if you believe in global warming or ...</td>\n",
              "      <td>20</td>\n",
              "    </tr>\n",
              "    <tr>\n",
              "      <th>4555</th>\n",
              "      <td>Take Action @change: Help Protect Wildlife Hab...</td>\n",
              "      <td>14</td>\n",
              "    </tr>\n",
              "    <tr>\n",
              "      <th>4027</th>\n",
              "      <td>RT @newtgingrich: Historic snow storm in washi...</td>\n",
              "      <td>9</td>\n",
              "    </tr>\n",
              "    <tr>\n",
              "      <th>1765</th>\n",
              "      <td>Fight Climate Change From All Fronts: [link]</td>\n",
              "      <td>8</td>\n",
              "    </tr>\n",
              "    <tr>\n",
              "      <th>1626</th>\n",
              "      <td>Earth's polar ice sheets vulnerable to even mo...</td>\n",
              "      <td>7</td>\n",
              "    </tr>\n",
              "    <tr>\n",
              "      <th>1941</th>\n",
              "      <td>Global Warming Dent's El Ni'o's Protective Shi...</td>\n",
              "      <td>7</td>\n",
              "    </tr>\n",
              "    <tr>\n",
              "      <th>1799</th>\n",
              "      <td>Foes of California's global warming law pour m...</td>\n",
              "      <td>6</td>\n",
              "    </tr>\n",
              "    <tr>\n",
              "      <th>1351</th>\n",
              "      <td>Coalition of the Tired of Waiting: Fighting Cl...</td>\n",
              "      <td>6</td>\n",
              "    </tr>\n",
              "    <tr>\n",
              "      <th>4271</th>\n",
              "      <td>SCIENCE: Scientists explore the evolution of c...</td>\n",
              "      <td>6</td>\n",
              "    </tr>\n",
              "    <tr>\n",
              "      <th>1040</th>\n",
              "      <td>Carbon offsets: How a Vatican forest failed to...</td>\n",
              "      <td>6</td>\n",
              "    </tr>\n",
              "  </tbody>\n",
              "</table>\n",
              "</div>"
            ],
            "text/plain": [
              "                                                  tweet  counts\n",
              "3131  No matter if you believe in global warming or ...      20\n",
              "4555  Take Action @change: Help Protect Wildlife Hab...      14\n",
              "4027  RT @newtgingrich: Historic snow storm in washi...       9\n",
              "1765       Fight Climate Change From All Fronts: [link]       8\n",
              "1626  Earth's polar ice sheets vulnerable to even mo...       7\n",
              "1941  Global Warming Dent's El Ni'o's Protective Shi...       7\n",
              "1799  Foes of California's global warming law pour m...       6\n",
              "1351  Coalition of the Tired of Waiting: Fighting Cl...       6\n",
              "4271  SCIENCE: Scientists explore the evolution of c...       6\n",
              "1040  Carbon offsets: How a Vatican forest failed to...       6"
            ]
          },
          "metadata": {
            "tags": []
          },
          "execution_count": 19
        }
      ]
    },
    {
      "cell_type": "code",
      "metadata": {
        "id": "-DuYtPnhntLl",
        "colab_type": "code",
        "outputId": "63bc6bbb-0ac5-4963-91d3-7ad035e71292",
        "colab": {
          "base_uri": "https://localhost:8080/",
          "height": 283
        }
      },
      "source": [
        "# number of times each tweet appears\n",
        "counts = df.groupby(['tweet']).size().reset_index(name='counts').counts\n",
        "\n",
        "# define bins for histogram\n",
        "my_bins = np.arange(0,counts.max()+2, 1)-0.5\n",
        "\n",
        "# plot histogram of tweet counts\n",
        "plt.figure()\n",
        "plt.hist(counts, bins = my_bins)\n",
        "plt.xlabels = np.arange(1,counts.max()+1, 1)\n",
        "plt.xlabel('copies of each tweet')\n",
        "plt.ylabel('frequency')\n",
        "plt.yscale('log', nonposy='clip')\n",
        "plt.show()"
      ],
      "execution_count": 0,
      "outputs": [
        {
          "output_type": "display_data",
          "data": {
            "image/png": "[encoded data removed]",
            "text/plain": [
              "<Figure size 432x288 with 1 Axes>"
            ]
          },
          "metadata": {
            "tags": []
          }
        }
      ]
    },
    {
      "cell_type": "code",
      "metadata": {
        "id": "f2wG4tPWn3YX",
        "colab_type": "code",
        "colab": {}
      },
      "source": [
        "def find_retweeted(tweet):\n",
        "    '''This function will extract the twitter handles of retweed people'''\n",
        "    return re.findall('(?<=RT\\s)(@[A-Za-z]+[A-Za-z0-9-_]+)', tweet)\n",
        "\n",
        "def find_mentioned(tweet):\n",
        "    '''This function will extract the twitter handles of people mentioned in the tweet'''\n",
        "    return re.findall('(?<!RT\\s)(@[A-Za-z]+[A-Za-z0-9-_]+)', tweet)  \n",
        "\n",
        "def find_hashtags(tweet):\n",
        "    '''This function will extract hashtags'''\n",
        "    return re.findall('(#[A-Za-z]+[A-Za-z0-9-_]+)', tweet)"
      ],
      "execution_count": 0,
      "outputs": []
    },
    {
      "cell_type": "code",
      "metadata": {
        "id": "Ac8mrNQzoTBR",
        "colab_type": "code",
        "colab": {}
      },
      "source": [
        "df['retweeted'] = df.tweet.apply(find_retweeted)\n",
        "df['mentioned'] = df.tweet.apply(find_mentioned)\n",
        "df['hashtags'] = df.tweet.apply(find_hashtags)"
      ],
      "execution_count": 0,
      "outputs": []
    },
    {
      "cell_type": "code",
      "metadata": {
        "id": "mOWnZE7OocJl",
        "colab_type": "code",
        "outputId": "5219156c-1f6b-4609-c18c-5e21d1a66776",
        "colab": {
          "base_uri": "https://localhost:8080/",
          "height": 204
        }
      },
      "source": [
        "df.head\n"
      ],
      "execution_count": 0,
      "outputs": [
        {
          "output_type": "execute_result",
          "data": {
            "text/html": [
              "<div>\n",
              "<style scoped>\n",
              "    .dataframe tbody tr th:only-of-type {\n",
              "        vertical-align: middle;\n",
              "    }\n",
              "\n",
              "    .dataframe tbody tr th {\n",
              "        vertical-align: top;\n",
              "    }\n",
              "\n",
              "    .dataframe thead th {\n",
              "        text-align: right;\n",
              "    }\n",
              "</style>\n",
              "<table border=\"1\" class=\"dataframe\">\n",
              "  <thead>\n",
              "    <tr style=\"text-align: right;\">\n",
              "      <th></th>\n",
              "      <th>tweet</th>\n",
              "      <th>is_retweet</th>\n",
              "      <th>retweeted</th>\n",
              "      <th>mentioned</th>\n",
              "      <th>hashtags</th>\n",
              "    </tr>\n",
              "  </thead>\n",
              "  <tbody>\n",
              "    <tr>\n",
              "      <th>0</th>\n",
              "      <td>Global warming report urges governments to act...</td>\n",
              "      <td>False</td>\n",
              "      <td>[]</td>\n",
              "      <td>[]</td>\n",
              "      <td>[]</td>\n",
              "    </tr>\n",
              "    <tr>\n",
              "      <th>1</th>\n",
              "      <td>Fighting poverty and global warming in Africa ...</td>\n",
              "      <td>False</td>\n",
              "      <td>[]</td>\n",
              "      <td>[]</td>\n",
              "      <td>[]</td>\n",
              "    </tr>\n",
              "    <tr>\n",
              "      <th>2</th>\n",
              "      <td>Carbon offsets: How a Vatican forest failed to...</td>\n",
              "      <td>False</td>\n",
              "      <td>[]</td>\n",
              "      <td>[]</td>\n",
              "      <td>[]</td>\n",
              "    </tr>\n",
              "    <tr>\n",
              "      <th>3</th>\n",
              "      <td>Carbon offsets: How a Vatican forest failed to...</td>\n",
              "      <td>False</td>\n",
              "      <td>[]</td>\n",
              "      <td>[]</td>\n",
              "      <td>[]</td>\n",
              "    </tr>\n",
              "    <tr>\n",
              "      <th>4</th>\n",
              "      <td>URUGUAY: Tools Needed for Those Most Vulnerabl...</td>\n",
              "      <td>False</td>\n",
              "      <td>[]</td>\n",
              "      <td>[]</td>\n",
              "      <td>[]</td>\n",
              "    </tr>\n",
              "  </tbody>\n",
              "</table>\n",
              "</div>"
            ],
            "text/plain": [
              "                                               tweet  ...  hashtags\n",
              "0  Global warming report urges governments to act...  ...        []\n",
              "1  Fighting poverty and global warming in Africa ...  ...        []\n",
              "2  Carbon offsets: How a Vatican forest failed to...  ...        []\n",
              "3  Carbon offsets: How a Vatican forest failed to...  ...        []\n",
              "4  URUGUAY: Tools Needed for Those Most Vulnerabl...  ...        []\n",
              "\n",
              "[5 rows x 5 columns]"
            ]
          },
          "metadata": {
            "tags": []
          },
          "execution_count": 26
        }
      ]
    },
    {
      "cell_type": "code",
      "metadata": {
        "id": "seAY6FofouJh",
        "colab_type": "code",
        "outputId": "b74d2978-9ccd-4a33-87ae-b28567f56556",
        "colab": {
          "base_uri": "https://localhost:8080/",
          "height": 204
        }
      },
      "source": [
        "# take the rows from the hashtag columns where there are actually hashtags\n",
        "hashtags_list_df = df.loc[df.hashtags.apply(lambda hashtags_list: hashtags_list !=[]),['hashtags']]\n",
        "hashtags_list_df.head() "
      ],
      "execution_count": 0,
      "outputs": [
        {
          "output_type": "execute_result",
          "data": {
            "text/html": [
              "<div>\n",
              "<style scoped>\n",
              "    .dataframe tbody tr th:only-of-type {\n",
              "        vertical-align: middle;\n",
              "    }\n",
              "\n",
              "    .dataframe tbody tr th {\n",
              "        vertical-align: top;\n",
              "    }\n",
              "\n",
              "    .dataframe thead th {\n",
              "        text-align: right;\n",
              "    }\n",
              "</style>\n",
              "<table border=\"1\" class=\"dataframe\">\n",
              "  <thead>\n",
              "    <tr style=\"text-align: right;\">\n",
              "      <th></th>\n",
              "      <th>hashtags</th>\n",
              "    </tr>\n",
              "  </thead>\n",
              "  <tbody>\n",
              "    <tr>\n",
              "      <th>12</th>\n",
              "      <td>[#Climate, #population]</td>\n",
              "    </tr>\n",
              "    <tr>\n",
              "      <th>16</th>\n",
              "      <td>[#EarthDay]</td>\n",
              "    </tr>\n",
              "    <tr>\n",
              "      <th>26</th>\n",
              "      <td>[#ac]</td>\n",
              "    </tr>\n",
              "    <tr>\n",
              "      <th>31</th>\n",
              "      <td>[#tcot]</td>\n",
              "    </tr>\n",
              "    <tr>\n",
              "      <th>36</th>\n",
              "      <td>[#tornadocot, #ocra, #sgp, #gop, #ucot, #tlot,...</td>\n",
              "    </tr>\n",
              "  </tbody>\n",
              "</table>\n",
              "</div>"
            ],
            "text/plain": [
              "                                             hashtags\n",
              "12                            [#Climate, #population]\n",
              "16                                        [#EarthDay]\n",
              "26                                              [#ac]\n",
              "31                                            [#tcot]\n",
              "36  [#tornadocot, #ocra, #sgp, #gop, #ucot, #tlot,..."
            ]
          },
          "metadata": {
            "tags": []
          },
          "execution_count": 32
        }
      ]
    },
    {
      "cell_type": "code",
      "metadata": {
        "id": "8YRbudPyow_O",
        "colab_type": "code",
        "outputId": "7d1a3451-e449-42ef-fa56-c7a68ec8bcfd",
        "colab": {
          "base_uri": "https://localhost:8080/",
          "height": 221
        }
      },
      "source": [
        "# create dataframe where each use of hashtag gets its own row\n",
        "flattened_hashtags_df = pd.DataFrame(\n",
        "    [hashtag for hashtags_list in hashtags_list_df.hashtags\n",
        "    for hashtag in hashtags_list],\n",
        "    columns=['hashtag'])\n",
        "print(flattened_hashtags_df.shape)\n",
        "flattened_hashtags_df.head()"
      ],
      "execution_count": 0,
      "outputs": [
        {
          "output_type": "stream",
          "text": [
            "(2067, 1)\n"
          ],
          "name": "stdout"
        },
        {
          "output_type": "execute_result",
          "data": {
            "text/html": [
              "<div>\n",
              "<style scoped>\n",
              "    .dataframe tbody tr th:only-of-type {\n",
              "        vertical-align: middle;\n",
              "    }\n",
              "\n",
              "    .dataframe tbody tr th {\n",
              "        vertical-align: top;\n",
              "    }\n",
              "\n",
              "    .dataframe thead th {\n",
              "        text-align: right;\n",
              "    }\n",
              "</style>\n",
              "<table border=\"1\" class=\"dataframe\">\n",
              "  <thead>\n",
              "    <tr style=\"text-align: right;\">\n",
              "      <th></th>\n",
              "      <th>hashtag</th>\n",
              "    </tr>\n",
              "  </thead>\n",
              "  <tbody>\n",
              "    <tr>\n",
              "      <th>0</th>\n",
              "      <td>#Climate</td>\n",
              "    </tr>\n",
              "    <tr>\n",
              "      <th>1</th>\n",
              "      <td>#population</td>\n",
              "    </tr>\n",
              "    <tr>\n",
              "      <th>2</th>\n",
              "      <td>#EarthDay</td>\n",
              "    </tr>\n",
              "    <tr>\n",
              "      <th>3</th>\n",
              "      <td>#ac</td>\n",
              "    </tr>\n",
              "    <tr>\n",
              "      <th>4</th>\n",
              "      <td>#tcot</td>\n",
              "    </tr>\n",
              "  </tbody>\n",
              "</table>\n",
              "</div>"
            ],
            "text/plain": [
              "       hashtag\n",
              "0     #Climate\n",
              "1  #population\n",
              "2    #EarthDay\n",
              "3          #ac\n",
              "4        #tcot"
            ]
          },
          "metadata": {
            "tags": []
          },
          "execution_count": 35
        }
      ]
    },
    {
      "cell_type": "code",
      "metadata": {
        "id": "-SLweRLxqMEb",
        "colab_type": "code",
        "outputId": "e7f173a9-4539-4691-bd57-60e301fbe667",
        "colab": {
          "base_uri": "https://localhost:8080/",
          "height": 34
        }
      },
      "source": [
        "flattened_hashtags_df['hashtag'].unique().size"
      ],
      "execution_count": 0,
      "outputs": [
        {
          "output_type": "execute_result",
          "data": {
            "text/plain": [
              "477"
            ]
          },
          "metadata": {
            "tags": []
          },
          "execution_count": 34
        }
      ]
    },
    {
      "cell_type": "code",
      "metadata": {
        "id": "mDGYazHNoz1F",
        "colab_type": "code",
        "outputId": "7b12cb6b-e4c3-4078-8f6b-d3efde595736",
        "colab": {
          "base_uri": "https://localhost:8080/",
          "height": 34
        }
      },
      "source": [
        "# number of unique hashtags\n",
        "flattened_hashtags_df['hashtag'].unique().size"
      ],
      "execution_count": 0,
      "outputs": [
        {
          "output_type": "execute_result",
          "data": {
            "text/plain": [
              "477"
            ]
          },
          "metadata": {
            "tags": []
          },
          "execution_count": 29
        }
      ]
    },
    {
      "cell_type": "markdown",
      "metadata": {
        "id": "SvfAm97c9VgU",
        "colab_type": "text"
      },
      "source": [
        "###Popular Hastags"
      ]
    },
    {
      "cell_type": "code",
      "metadata": {
        "id": "UcZPgrZOo2QC",
        "colab_type": "code",
        "outputId": "a33cc546-f441-4c58-d2ad-0690c50076d8",
        "colab": {
          "base_uri": "https://localhost:8080/",
          "height": 204
        }
      },
      "source": [
        "# count of appearances of each hashtag\n",
        "popular_hashtags = flattened_hashtags_df.groupby('hashtag').size()\\\n",
        "                                        .reset_index(name='counts')\\\n",
        "                                        .sort_values('counts', ascending=False)\\\n",
        "                                        .reset_index(drop=True)\n",
        "popular_hashtags.head()"
      ],
      "execution_count": 0,
      "outputs": [
        {
          "output_type": "execute_result",
          "data": {
            "text/html": [
              "<div>\n",
              "<style scoped>\n",
              "    .dataframe tbody tr th:only-of-type {\n",
              "        vertical-align: middle;\n",
              "    }\n",
              "\n",
              "    .dataframe tbody tr th {\n",
              "        vertical-align: top;\n",
              "    }\n",
              "\n",
              "    .dataframe thead th {\n",
              "        text-align: right;\n",
              "    }\n",
              "</style>\n",
              "<table border=\"1\" class=\"dataframe\">\n",
              "  <thead>\n",
              "    <tr style=\"text-align: right;\">\n",
              "      <th></th>\n",
              "      <th>hashtag</th>\n",
              "      <th>counts</th>\n",
              "    </tr>\n",
              "  </thead>\n",
              "  <tbody>\n",
              "    <tr>\n",
              "      <th>0</th>\n",
              "      <td>#tcot</td>\n",
              "      <td>227</td>\n",
              "    </tr>\n",
              "    <tr>\n",
              "      <th>1</th>\n",
              "      <td>#climate</td>\n",
              "      <td>202</td>\n",
              "    </tr>\n",
              "    <tr>\n",
              "      <th>2</th>\n",
              "      <td>#p2</td>\n",
              "      <td>112</td>\n",
              "    </tr>\n",
              "    <tr>\n",
              "      <th>3</th>\n",
              "      <td>#green</td>\n",
              "      <td>50</td>\n",
              "    </tr>\n",
              "    <tr>\n",
              "      <th>4</th>\n",
              "      <td>#climatechange</td>\n",
              "      <td>47</td>\n",
              "    </tr>\n",
              "  </tbody>\n",
              "</table>\n",
              "</div>"
            ],
            "text/plain": [
              "          hashtag  counts\n",
              "0           #tcot     227\n",
              "1        #climate     202\n",
              "2             #p2     112\n",
              "3          #green      50\n",
              "4  #climatechange      47"
            ]
          },
          "metadata": {
            "tags": []
          },
          "execution_count": 50
        }
      ]
    },
    {
      "cell_type": "code",
      "metadata": {
        "id": "48QpbhEHqrgA",
        "colab_type": "code",
        "outputId": "d2ebb3ac-7257-439d-9186-a035b70985e8",
        "colab": {
          "base_uri": "https://localhost:8080/",
          "height": 283
        }
      },
      "source": [
        "# number of times each hashtag appears\n",
        "counts = flattened_hashtags_df.groupby(['hashtag']).size()\\\n",
        "                              .reset_index(name='counts')\\\n",
        "                              .counts\n",
        "\n",
        "# define bins for histogram                              \n",
        "my_bins = np.arange(0,counts.max()+2, 5)-0.5\n",
        "\n",
        "# plot histogram of tweet counts\n",
        "plt.figure()\n",
        "plt.hist(counts, bins = my_bins)\n",
        "plt.xlabels = np.arange(1,counts.max()+1, 1)\n",
        "plt.xlabel('hashtag number of appearances')\n",
        "plt.ylabel('frequency')\n",
        "plt.yscale('log', nonposy='clip')\n",
        "plt.show()"
      ],
      "execution_count": 0,
      "outputs": [
        {
          "output_type": "display_data",
          "data": {
            "image/png": "[encoded data removed]",
            "text/plain": [
              "<Figure size 432x288 with 1 Axes>"
            ]
          },
          "metadata": {
            "tags": []
          }
        }
      ]
    },
    {
      "cell_type": "markdown",
      "metadata": {
        "id": "poAphd8p9ggR",
        "colab_type": "text"
      },
      "source": [
        "###Popular Retweet"
      ]
    },
    {
      "cell_type": "code",
      "metadata": {
        "id": "hBRhNGELq_-j",
        "colab_type": "code",
        "outputId": "617bf1d0-ba3f-4d4f-ec50-1eda8e415f8e",
        "colab": {
          "base_uri": "https://localhost:8080/",
          "height": 221
        }
      },
      "source": [
        "# NOW FOR TOP PEOPLE BEING RETWEETED\n",
        "\n",
        "retweet_list_df = df.loc[df.retweeted.apply(lambda retweet_list: retweet_list !=[]),['retweeted']]\n",
        "#retweet_list_df.head()\n",
        "\n",
        "flattened_retweet_df = pd.DataFrame(\n",
        "    [retweet for retweet_list in retweet_list_df.retweeted\n",
        "    for retweet in retweet_list],\n",
        "    columns=['retweeted'])\n",
        "print(flattened_retweet_df.shape)\n",
        "flattened_retweet_df.head()\n",
        "\n",
        "\n",
        "\n",
        "popular_retweets = flattened_retweet_df.groupby('retweeted').size()\\\n",
        "                                        .reset_index(name='counts')\\\n",
        "                                        .sort_values('counts', ascending=False)\\\n",
        "                                        .reset_index(drop=True)\n",
        "\n",
        "popular_retweets.head()"
      ],
      "execution_count": 0,
      "outputs": [
        {
          "output_type": "stream",
          "text": [
            "(966, 1)\n"
          ],
          "name": "stdout"
        },
        {
          "output_type": "execute_result",
          "data": {
            "text/html": [
              "<div>\n",
              "<style scoped>\n",
              "    .dataframe tbody tr th:only-of-type {\n",
              "        vertical-align: middle;\n",
              "    }\n",
              "\n",
              "    .dataframe tbody tr th {\n",
              "        vertical-align: top;\n",
              "    }\n",
              "\n",
              "    .dataframe thead th {\n",
              "        text-align: right;\n",
              "    }\n",
              "</style>\n",
              "<table border=\"1\" class=\"dataframe\">\n",
              "  <thead>\n",
              "    <tr style=\"text-align: right;\">\n",
              "      <th></th>\n",
              "      <th>retweeted</th>\n",
              "      <th>counts</th>\n",
              "    </tr>\n",
              "  </thead>\n",
              "  <tbody>\n",
              "    <tr>\n",
              "      <th>0</th>\n",
              "      <td>@Drudge_Report</td>\n",
              "      <td>19</td>\n",
              "    </tr>\n",
              "    <tr>\n",
              "      <th>1</th>\n",
              "      <td>@Newsweek</td>\n",
              "      <td>18</td>\n",
              "    </tr>\n",
              "    <tr>\n",
              "      <th>2</th>\n",
              "      <td>@redostoneage</td>\n",
              "      <td>12</td>\n",
              "    </tr>\n",
              "    <tr>\n",
              "      <th>3</th>\n",
              "      <td>@newtgingrich</td>\n",
              "      <td>10</td>\n",
              "    </tr>\n",
              "    <tr>\n",
              "      <th>4</th>\n",
              "      <td>@mattyglesias</td>\n",
              "      <td>10</td>\n",
              "    </tr>\n",
              "  </tbody>\n",
              "</table>\n",
              "</div>"
            ],
            "text/plain": [
              "        retweeted  counts\n",
              "0  @Drudge_Report      19\n",
              "1       @Newsweek      18\n",
              "2   @redostoneage      12\n",
              "3   @newtgingrich      10\n",
              "4   @mattyglesias      10"
            ]
          },
          "metadata": {
            "tags": []
          },
          "execution_count": 51
        }
      ]
    },
    {
      "cell_type": "markdown",
      "metadata": {
        "id": "lgeb0hBD9aqr",
        "colab_type": "text"
      },
      "source": [
        "###Popular Mention"
      ]
    },
    {
      "cell_type": "code",
      "metadata": {
        "id": "97UVRUc-rIiJ",
        "colab_type": "code",
        "outputId": "50ce165d-f6e0-422b-8b94-b5ffae53f145",
        "colab": {
          "base_uri": "https://localhost:8080/",
          "height": 221
        }
      },
      "source": [
        "# NOW FOR TOP PEOPLE BEING MENTIONED\n",
        "\n",
        "mention_list_df = df.loc[df.mentioned.apply(lambda mention_list: mention_list !=[]),['mentioned']]\n",
        "#retweet_list_df.head()\n",
        "\n",
        "flattened_mention_df = pd.DataFrame(\n",
        "    [mention for mention_list in mention_list_df.mentioned\n",
        "    for mention in mention_list],\n",
        "    columns=['mentioned'])\n",
        "print(flattened_mention_df.shape)\n",
        "flattened_mention_df.head()\n",
        "\n",
        "\n",
        "\n",
        "popular_mention = flattened_mention_df.groupby('mentioned').size()\\\n",
        "                                        .reset_index(name='counts')\\\n",
        "                                        .sort_values('counts', ascending=False)\\\n",
        "                                        .reset_index(drop=True)\n",
        "\n",
        "popular_mention.head()"
      ],
      "execution_count": 0,
      "outputs": [
        {
          "output_type": "stream",
          "text": [
            "(1173, 1)\n"
          ],
          "name": "stdout"
        },
        {
          "output_type": "execute_result",
          "data": {
            "text/html": [
              "<div>\n",
              "<style scoped>\n",
              "    .dataframe tbody tr th:only-of-type {\n",
              "        vertical-align: middle;\n",
              "    }\n",
              "\n",
              "    .dataframe tbody tr th {\n",
              "        vertical-align: top;\n",
              "    }\n",
              "\n",
              "    .dataframe thead th {\n",
              "        text-align: right;\n",
              "    }\n",
              "</style>\n",
              "<table border=\"1\" class=\"dataframe\">\n",
              "  <thead>\n",
              "    <tr style=\"text-align: right;\">\n",
              "      <th></th>\n",
              "      <th>mentioned</th>\n",
              "      <th>counts</th>\n",
              "    </tr>\n",
              "  </thead>\n",
              "  <tbody>\n",
              "    <tr>\n",
              "      <th>0</th>\n",
              "      <td>@NewsOnGreen</td>\n",
              "      <td>37</td>\n",
              "    </tr>\n",
              "    <tr>\n",
              "      <th>1</th>\n",
              "      <td>@change</td>\n",
              "      <td>33</td>\n",
              "    </tr>\n",
              "    <tr>\n",
              "      <th>2</th>\n",
              "      <td>@addthis</td>\n",
              "      <td>19</td>\n",
              "    </tr>\n",
              "    <tr>\n",
              "      <th>3</th>\n",
              "      <td>@HumanityNews</td>\n",
              "      <td>17</td>\n",
              "    </tr>\n",
              "    <tr>\n",
              "      <th>4</th>\n",
              "      <td>@TIME</td>\n",
              "      <td>9</td>\n",
              "    </tr>\n",
              "  </tbody>\n",
              "</table>\n",
              "</div>"
            ],
            "text/plain": [
              "       mentioned  counts\n",
              "0   @NewsOnGreen      37\n",
              "1        @change      33\n",
              "2       @addthis      19\n",
              "3  @HumanityNews      17\n",
              "4          @TIME       9"
            ]
          },
          "metadata": {
            "tags": []
          },
          "execution_count": 53
        }
      ]
    },
    {
      "cell_type": "code",
      "metadata": {
        "id": "U-UsUklfuN4g",
        "colab_type": "code",
        "colab": {}
      },
      "source": [
        "# take hashtags which appear at least this amount of times\n",
        "min_appearance = 10\n",
        "# find popular hashtags - make into python set for efficiency\n",
        "popular_hashtags_set = set(popular_hashtags[\n",
        "                           popular_hashtags.counts>=min_appearance\n",
        "                           ]['hashtag'])"
      ],
      "execution_count": 0,
      "outputs": []
    },
    {
      "cell_type": "code",
      "metadata": {
        "id": "O9BQonh6uxZp",
        "colab_type": "code",
        "colab": {}
      },
      "source": [
        "# make a new column with only the popular hashtags\n",
        "hashtags_list_df['popular_hashtags'] = hashtags_list_df.hashtags.apply(\n",
        "            lambda hashtag_list: [hashtag for hashtag in hashtag_list\n",
        "                                  if hashtag in popular_hashtags_set])\n",
        "# drop rows without popular hashtag\n",
        "popular_hashtags_list_df = hashtags_list_df.loc[\n",
        "            hashtags_list_df.popular_hashtags.apply(lambda hashtag_list: hashtag_list !=[])]"
      ],
      "execution_count": 0,
      "outputs": []
    },
    {
      "cell_type": "code",
      "metadata": {
        "id": "ff-nqeNYu1SF",
        "colab_type": "code",
        "colab": {}
      },
      "source": [
        "# make new dataframe\n",
        "hashtag_vector_df = popular_hashtags_list_df.loc[:, ['popular_hashtags']]\n",
        "\n",
        "for hashtag in popular_hashtags_set:\n",
        "    # make columns to encode presence of hashtags\n",
        "    hashtag_vector_df['{}'.format(hashtag)] = hashtag_vector_df.popular_hashtags.apply(\n",
        "        lambda hashtag_list: int(hashtag in hashtag_list))"
      ],
      "execution_count": 0,
      "outputs": []
    },
    {
      "cell_type": "code",
      "metadata": {
        "id": "VE3im0PEvAm5",
        "colab_type": "code",
        "colab": {}
      },
      "source": [
        "hashtag_matrix = hashtag_vector_df.drop('popular_hashtags', axis=1)\n"
      ],
      "execution_count": 0,
      "outputs": []
    },
    {
      "cell_type": "code",
      "metadata": {
        "id": "MJ9lhTCuvArR",
        "colab_type": "code",
        "outputId": "4974f0a1-5d4c-4432-b702-95a3424b6cad",
        "colab": {
          "base_uri": "https://localhost:8080/",
          "height": 224
        }
      },
      "source": [
        "hashtag_matrix = hashtag_vector_df.drop('popular_hashtags', axis=1)\n",
        "hashtag_matrix.head()"
      ],
      "execution_count": 0,
      "outputs": [
        {
          "output_type": "execute_result",
          "data": {
            "text/html": [
              "<div>\n",
              "<style scoped>\n",
              "    .dataframe tbody tr th:only-of-type {\n",
              "        vertical-align: middle;\n",
              "    }\n",
              "\n",
              "    .dataframe tbody tr th {\n",
              "        vertical-align: top;\n",
              "    }\n",
              "\n",
              "    .dataframe thead th {\n",
              "        text-align: right;\n",
              "    }\n",
              "</style>\n",
              "<table border=\"1\" class=\"dataframe\">\n",
              "  <thead>\n",
              "    <tr style=\"text-align: right;\">\n",
              "      <th></th>\n",
              "      <th>#Climate</th>\n",
              "      <th>#FoxNews</th>\n",
              "      <th>#climate</th>\n",
              "      <th>#du1</th>\n",
              "      <th>#climatechange</th>\n",
              "      <th>#teaparty</th>\n",
              "      <th>#environment</th>\n",
              "      <th>#News</th>\n",
              "      <th>#fb</th>\n",
              "      <th>#climategate</th>\n",
              "      <th>#earthday</th>\n",
              "      <th>#ocra</th>\n",
              "      <th>#energy</th>\n",
              "      <th>#green</th>\n",
              "      <th>#SaveTerra</th>\n",
              "      <th>#tcot</th>\n",
              "      <th>#GlobalWarming</th>\n",
              "      <th>#UN</th>\n",
              "      <th>#TCOT</th>\n",
              "      <th>#snowpocalypse</th>\n",
              "      <th>#eco</th>\n",
              "      <th>#tlot</th>\n",
              "      <th>#sgp</th>\n",
              "      <th>#gop</th>\n",
              "      <th>#cleantech</th>\n",
              "      <th>#SierraClub</th>\n",
              "      <th>#cochabamba</th>\n",
              "      <th>#p2</th>\n",
              "      <th>#Green</th>\n",
              "      <th>#global</th>\n",
              "      <th>#globalwarming</th>\n",
              "      <th>#news</th>\n",
              "      <th>#agw</th>\n",
              "      <th>#EarthDay</th>\n",
              "      <th>#IPCC</th>\n",
              "    </tr>\n",
              "  </thead>\n",
              "  <tbody>\n",
              "    <tr>\n",
              "      <th>12</th>\n",
              "      <td>1</td>\n",
              "      <td>0</td>\n",
              "      <td>0</td>\n",
              "      <td>0</td>\n",
              "      <td>0</td>\n",
              "      <td>0</td>\n",
              "      <td>0</td>\n",
              "      <td>0</td>\n",
              "      <td>0</td>\n",
              "      <td>0</td>\n",
              "      <td>0</td>\n",
              "      <td>0</td>\n",
              "      <td>0</td>\n",
              "      <td>0</td>\n",
              "      <td>0</td>\n",
              "      <td>0</td>\n",
              "      <td>0</td>\n",
              "      <td>0</td>\n",
              "      <td>0</td>\n",
              "      <td>0</td>\n",
              "      <td>0</td>\n",
              "      <td>0</td>\n",
              "      <td>0</td>\n",
              "      <td>0</td>\n",
              "      <td>0</td>\n",
              "      <td>0</td>\n",
              "      <td>0</td>\n",
              "      <td>0</td>\n",
              "      <td>0</td>\n",
              "      <td>0</td>\n",
              "      <td>0</td>\n",
              "      <td>0</td>\n",
              "      <td>0</td>\n",
              "      <td>0</td>\n",
              "      <td>0</td>\n",
              "    </tr>\n",
              "    <tr>\n",
              "      <th>16</th>\n",
              "      <td>0</td>\n",
              "      <td>0</td>\n",
              "      <td>0</td>\n",
              "      <td>0</td>\n",
              "      <td>0</td>\n",
              "      <td>0</td>\n",
              "      <td>0</td>\n",
              "      <td>0</td>\n",
              "      <td>0</td>\n",
              "      <td>0</td>\n",
              "      <td>0</td>\n",
              "      <td>0</td>\n",
              "      <td>0</td>\n",
              "      <td>0</td>\n",
              "      <td>0</td>\n",
              "      <td>0</td>\n",
              "      <td>0</td>\n",
              "      <td>0</td>\n",
              "      <td>0</td>\n",
              "      <td>0</td>\n",
              "      <td>0</td>\n",
              "      <td>0</td>\n",
              "      <td>0</td>\n",
              "      <td>0</td>\n",
              "      <td>0</td>\n",
              "      <td>0</td>\n",
              "      <td>0</td>\n",
              "      <td>0</td>\n",
              "      <td>0</td>\n",
              "      <td>0</td>\n",
              "      <td>0</td>\n",
              "      <td>0</td>\n",
              "      <td>0</td>\n",
              "      <td>1</td>\n",
              "      <td>0</td>\n",
              "    </tr>\n",
              "    <tr>\n",
              "      <th>31</th>\n",
              "      <td>0</td>\n",
              "      <td>0</td>\n",
              "      <td>0</td>\n",
              "      <td>0</td>\n",
              "      <td>0</td>\n",
              "      <td>0</td>\n",
              "      <td>0</td>\n",
              "      <td>0</td>\n",
              "      <td>0</td>\n",
              "      <td>0</td>\n",
              "      <td>0</td>\n",
              "      <td>0</td>\n",
              "      <td>0</td>\n",
              "      <td>0</td>\n",
              "      <td>0</td>\n",
              "      <td>1</td>\n",
              "      <td>0</td>\n",
              "      <td>0</td>\n",
              "      <td>0</td>\n",
              "      <td>0</td>\n",
              "      <td>0</td>\n",
              "      <td>0</td>\n",
              "      <td>0</td>\n",
              "      <td>0</td>\n",
              "      <td>0</td>\n",
              "      <td>0</td>\n",
              "      <td>0</td>\n",
              "      <td>0</td>\n",
              "      <td>0</td>\n",
              "      <td>0</td>\n",
              "      <td>0</td>\n",
              "      <td>0</td>\n",
              "      <td>0</td>\n",
              "      <td>0</td>\n",
              "      <td>0</td>\n",
              "    </tr>\n",
              "    <tr>\n",
              "      <th>36</th>\n",
              "      <td>0</td>\n",
              "      <td>0</td>\n",
              "      <td>0</td>\n",
              "      <td>0</td>\n",
              "      <td>0</td>\n",
              "      <td>0</td>\n",
              "      <td>0</td>\n",
              "      <td>0</td>\n",
              "      <td>0</td>\n",
              "      <td>0</td>\n",
              "      <td>0</td>\n",
              "      <td>1</td>\n",
              "      <td>0</td>\n",
              "      <td>0</td>\n",
              "      <td>0</td>\n",
              "      <td>0</td>\n",
              "      <td>0</td>\n",
              "      <td>0</td>\n",
              "      <td>0</td>\n",
              "      <td>0</td>\n",
              "      <td>0</td>\n",
              "      <td>1</td>\n",
              "      <td>1</td>\n",
              "      <td>1</td>\n",
              "      <td>0</td>\n",
              "      <td>0</td>\n",
              "      <td>0</td>\n",
              "      <td>1</td>\n",
              "      <td>0</td>\n",
              "      <td>0</td>\n",
              "      <td>0</td>\n",
              "      <td>0</td>\n",
              "      <td>0</td>\n",
              "      <td>0</td>\n",
              "      <td>0</td>\n",
              "    </tr>\n",
              "    <tr>\n",
              "      <th>39</th>\n",
              "      <td>0</td>\n",
              "      <td>0</td>\n",
              "      <td>0</td>\n",
              "      <td>0</td>\n",
              "      <td>0</td>\n",
              "      <td>0</td>\n",
              "      <td>0</td>\n",
              "      <td>0</td>\n",
              "      <td>0</td>\n",
              "      <td>0</td>\n",
              "      <td>0</td>\n",
              "      <td>0</td>\n",
              "      <td>0</td>\n",
              "      <td>0</td>\n",
              "      <td>0</td>\n",
              "      <td>1</td>\n",
              "      <td>0</td>\n",
              "      <td>0</td>\n",
              "      <td>0</td>\n",
              "      <td>0</td>\n",
              "      <td>0</td>\n",
              "      <td>0</td>\n",
              "      <td>0</td>\n",
              "      <td>0</td>\n",
              "      <td>0</td>\n",
              "      <td>0</td>\n",
              "      <td>0</td>\n",
              "      <td>1</td>\n",
              "      <td>0</td>\n",
              "      <td>0</td>\n",
              "      <td>0</td>\n",
              "      <td>0</td>\n",
              "      <td>0</td>\n",
              "      <td>0</td>\n",
              "      <td>0</td>\n",
              "    </tr>\n",
              "  </tbody>\n",
              "</table>\n",
              "</div>"
            ],
            "text/plain": [
              "    #Climate  #FoxNews  #climate  #du1  ...  #news  #agw  #EarthDay  #IPCC\n",
              "12         1         0         0     0  ...      0     0          0      0\n",
              "16         0         0         0     0  ...      0     0          1      0\n",
              "31         0         0         0     0  ...      0     0          0      0\n",
              "36         0         0         0     0  ...      0     0          0      0\n",
              "39         0         0         0     0  ...      0     0          0      0\n",
              "\n",
              "[5 rows x 35 columns]"
            ]
          },
          "metadata": {
            "tags": []
          },
          "execution_count": 86
        }
      ]
    },
    {
      "cell_type": "code",
      "metadata": {
        "id": "ocWmwuwzvmfe",
        "colab_type": "code",
        "outputId": "0e1e0111-5e6c-4449-cf61-4e7fd8808dac",
        "colab": {
          "base_uri": "https://localhost:8080/",
          "height": 622
        }
      },
      "source": [
        "# calculate the correlation matrix\n",
        "correlations = hashtag_matrix.corr()\n",
        "\n",
        "# plot the correlation matrix\n",
        "plt.figure(figsize=(10,10))\n",
        "sns.heatmap(correlations,\n",
        "    cmap='RdBu',\n",
        "    vmin=-1,\n",
        "    vmax=1,\n",
        "    square = True,\n",
        "    cbar_kws={'label':'correlation'})\n",
        "plt.show()"
      ],
      "execution_count": 0,
      "outputs": [
        {
          "output_type": "display_data",
          "data": {
            "image/png": "[encoded data removed]",
            "text/plain": [
              "<Figure size 720x720 with 2 Axes>"
            ]
          },
          "metadata": {
            "tags": []
          }
        }
      ]
    },
    {
      "cell_type": "markdown",
      "metadata": {
        "id": "7pehin-lzDJE",
        "colab_type": "text"
      },
      "source": [
        "#TOPIC MODELING"
      ]
    },
    {
      "cell_type": "code",
      "metadata": {
        "id": "PfYIERhq0lBs",
        "colab_type": "code",
        "outputId": "c190fed1-3b26-439b-99a0-76d01afc5ea6",
        "colab": {
          "base_uri": "https://localhost:8080/",
          "height": 68
        }
      },
      "source": [
        "import nltk\n",
        "from nltk.tokenize import RegexpTokenizer\n",
        "from nltk.corpus import stopwords\n",
        "nltk.download('stopwords')"
      ],
      "execution_count": 0,
      "outputs": [
        {
          "output_type": "stream",
          "text": [
            "[nltk_data] Downloading package stopwords to /root/nltk_data...\n",
            "[nltk_data]   Package stopwords is already up-to-date!\n"
          ],
          "name": "stdout"
        },
        {
          "output_type": "execute_result",
          "data": {
            "text/plain": [
              "True"
            ]
          },
          "metadata": {
            "tags": []
          },
          "execution_count": 68
        }
      ]
    },
    {
      "cell_type": "code",
      "metadata": {
        "id": "nkY7h2-n0nug",
        "colab_type": "code",
        "colab": {}
      },
      "source": [
        "def remove_links(tweet):\n",
        "    '''Takes a string and removes web links from it'''\n",
        "    tweet = re.sub(r'http\\S+', '', tweet) # remove http links\n",
        "    tweet = re.sub(r'bit.ly/\\S+', '', tweet) # rempve bitly links\n",
        "    tweet = tweet.strip('[link]') # remove [links]\n",
        "    return tweet\n",
        "\n",
        "def remove_users(tweet):\n",
        "    '''Takes a string and removes retweet and @user information'''\n",
        "    tweet = re.sub('(RT\\s@[A-Za-z]+[A-Za-z0-9-_]+)', '', tweet) # remove retweet\n",
        "    tweet = re.sub('(@[A-Za-z]+[A-Za-z0-9-_]+)', '', tweet) # remove tweeted at\n",
        "    return tweet\n",
        "  \n",
        "my_stopwords = nltk.corpus.stopwords.words('english')\n",
        "word_rooter = nltk.stem.snowball.PorterStemmer(ignore_stopwords=False).stem\n",
        "my_punctuation = '!\"$%&\\'()*+,-./:;<=>?[\\\\]^_`{|}~•@'\n",
        "\n",
        "# cleaning master function\n",
        "def clean_tweet(tweet, bigrams=False):\n",
        "    tweet = remove_users(tweet)\n",
        "    tweet = remove_links(tweet)\n",
        "    tweet = tweet.lower() # lower case\n",
        "    tweet = re.sub('['+my_punctuation + ']+', ' ', tweet) # strip punctuation\n",
        "    tweet = re.sub('\\s+', ' ', tweet) #remove double spacing\n",
        "    tweet = re.sub('([0-9]+)', '', tweet) # remove numbers\n",
        "    tweet_token_list = [word for word in tweet.split(' ')\n",
        "                            if word not in my_stopwords] # remove stopwords\n",
        "\n",
        "    tweet_token_list = [word_rooter(word) if '#' not in word else word\n",
        "                        for word in tweet_token_list] # apply word rooter\n",
        "    if bigrams:\n",
        "        tweet_token_list = tweet_token_list+[tweet_token_list[i]+'_'+tweet_token_list[i+1]\n",
        "                                            for i in range(len(tweet_token_list)-1)]\n",
        "    tweet = ' '.join(tweet_token_list)\n",
        "    return tweet"
      ],
      "execution_count": 0,
      "outputs": []
    },
    {
      "cell_type": "code",
      "metadata": {
        "id": "aFxhrAuC0qnA",
        "colab_type": "code",
        "outputId": "73f0a73f-0603-46f0-d8de-faeddd99a04b",
        "colab": {
          "base_uri": "https://localhost:8080/",
          "height": 289
        }
      },
      "source": [
        "df['clean_tweet'] = df.tweet.apply(clean_tweet)\n",
        "df.head()"
      ],
      "execution_count": 0,
      "outputs": [
        {
          "output_type": "execute_result",
          "data": {
            "text/html": [
              "<div>\n",
              "<style scoped>\n",
              "    .dataframe tbody tr th:only-of-type {\n",
              "        vertical-align: middle;\n",
              "    }\n",
              "\n",
              "    .dataframe tbody tr th {\n",
              "        vertical-align: top;\n",
              "    }\n",
              "\n",
              "    .dataframe thead th {\n",
              "        text-align: right;\n",
              "    }\n",
              "</style>\n",
              "<table border=\"1\" class=\"dataframe\">\n",
              "  <thead>\n",
              "    <tr style=\"text-align: right;\">\n",
              "      <th></th>\n",
              "      <th>tweet</th>\n",
              "      <th>is_retweet</th>\n",
              "      <th>retweeted</th>\n",
              "      <th>mentioned</th>\n",
              "      <th>hashtags</th>\n",
              "      <th>clean_tweet</th>\n",
              "    </tr>\n",
              "  </thead>\n",
              "  <tbody>\n",
              "    <tr>\n",
              "      <th>0</th>\n",
              "      <td>Global warming report urges governments to act...</td>\n",
              "      <td>False</td>\n",
              "      <td>[]</td>\n",
              "      <td>[]</td>\n",
              "      <td>[]</td>\n",
              "      <td>global warm report urg govern act brussel belg...</td>\n",
              "    </tr>\n",
              "    <tr>\n",
              "      <th>1</th>\n",
              "      <td>Fighting poverty and global warming in Africa ...</td>\n",
              "      <td>False</td>\n",
              "      <td>[]</td>\n",
              "      <td>[]</td>\n",
              "      <td>[]</td>\n",
              "      <td>fight poverti global warm africa</td>\n",
              "    </tr>\n",
              "    <tr>\n",
              "      <th>2</th>\n",
              "      <td>Carbon offsets: How a Vatican forest failed to...</td>\n",
              "      <td>False</td>\n",
              "      <td>[]</td>\n",
              "      <td>[]</td>\n",
              "      <td>[]</td>\n",
              "      <td>carbon offset vatican forest fail reduc global...</td>\n",
              "    </tr>\n",
              "    <tr>\n",
              "      <th>3</th>\n",
              "      <td>Carbon offsets: How a Vatican forest failed to...</td>\n",
              "      <td>False</td>\n",
              "      <td>[]</td>\n",
              "      <td>[]</td>\n",
              "      <td>[]</td>\n",
              "      <td>carbon offset vatican forest fail reduc global...</td>\n",
              "    </tr>\n",
              "    <tr>\n",
              "      <th>4</th>\n",
              "      <td>URUGUAY: Tools Needed for Those Most Vulnerabl...</td>\n",
              "      <td>False</td>\n",
              "      <td>[]</td>\n",
              "      <td>[]</td>\n",
              "      <td>[]</td>\n",
              "      <td>uruguay tool need vulner climat chang</td>\n",
              "    </tr>\n",
              "  </tbody>\n",
              "</table>\n",
              "</div>"
            ],
            "text/plain": [
              "                                               tweet  ...                                        clean_tweet\n",
              "0  Global warming report urges governments to act...  ...  global warm report urg govern act brussel belg...\n",
              "1  Fighting poverty and global warming in Africa ...  ...                  fight poverti global warm africa \n",
              "2  Carbon offsets: How a Vatican forest failed to...  ...  carbon offset vatican forest fail reduc global...\n",
              "3  Carbon offsets: How a Vatican forest failed to...  ...  carbon offset vatican forest fail reduc global...\n",
              "4  URUGUAY: Tools Needed for Those Most Vulnerabl...  ...             uruguay tool need vulner climat chang \n",
              "\n",
              "[5 rows x 6 columns]"
            ]
          },
          "metadata": {
            "tags": []
          },
          "execution_count": 71
        }
      ]
    },
    {
      "cell_type": "code",
      "metadata": {
        "id": "wxDMIbnj01Dz",
        "colab_type": "code",
        "colab": {}
      },
      "source": [
        "from sklearn.feature_extraction.text import CountVectorizer\n",
        "\n",
        "# the vectorizer object will be used to transform text to vector form\n",
        "vectorizer = CountVectorizer(max_df=0.9, min_df=25, token_pattern='\\w+|\\$[\\d\\.]+|\\S+')\n",
        "\n",
        "# apply transformation\n",
        "tf = vectorizer.fit_transform(df['clean_tweet']).toarray()\n",
        "\n",
        "# tf_feature_names tells us what word each column in the matric represents\n",
        "tf_feature_names = vectorizer.get_feature_names()\n"
      ],
      "execution_count": 0,
      "outputs": []
    },
    {
      "cell_type": "markdown",
      "metadata": {
        "id": "rEPCnian-Doc",
        "colab_type": "text"
      },
      "source": [
        "##LDA"
      ]
    },
    {
      "cell_type": "code",
      "metadata": {
        "id": "c-ABb08q06Ks",
        "colab_type": "code",
        "colab": {}
      },
      "source": [
        "from sklearn.decomposition import LatentDirichletAllocation\n",
        "\n",
        "number_of_topics = 10\n",
        "\n",
        "model = LatentDirichletAllocation(n_components=number_of_topics, random_state=0)"
      ],
      "execution_count": 0,
      "outputs": []
    },
    {
      "cell_type": "code",
      "metadata": {
        "id": "jehoaOwj08nZ",
        "colab_type": "code",
        "outputId": "16de6f7a-36c6-4ca4-d4cb-a9465d7a840b",
        "colab": {
          "base_uri": "https://localhost:8080/",
          "height": 136
        }
      },
      "source": [
        "model.fit(tf)"
      ],
      "execution_count": 0,
      "outputs": [
        {
          "output_type": "execute_result",
          "data": {
            "text/plain": [
              "LatentDirichletAllocation(batch_size=128, doc_topic_prior=None,\n",
              "                          evaluate_every=-1, learning_decay=0.7,\n",
              "                          learning_method='batch', learning_offset=10.0,\n",
              "                          max_doc_update_iter=100, max_iter=10,\n",
              "                          mean_change_tol=0.001, n_components=10, n_jobs=None,\n",
              "                          perp_tol=0.1, random_state=0, topic_word_prior=None,\n",
              "                          total_samples=1000000.0, verbose=0)"
            ]
          },
          "metadata": {
            "tags": []
          },
          "execution_count": 74
        }
      ]
    },
    {
      "cell_type": "code",
      "metadata": {
        "id": "_dDgM9TA0_IM",
        "colab_type": "code",
        "colab": {}
      },
      "source": [
        "def display_topics(model, feature_names, no_top_words):\n",
        "    topic_dict = {}\n",
        "    for topic_idx, topic in enumerate(model.components_):\n",
        "        topic_dict[\"Topic %d words\" % (topic_idx)]= ['{}'.format(feature_names[i])\n",
        "                        for i in topic.argsort()[:-no_top_words - 1:-1]]\n",
        "        topic_dict[\"Topic %d weights\" % (topic_idx)]= ['{:.1f}'.format(topic[i])\n",
        "                        for i in topic.argsort()[:-no_top_words - 1:-1]]\n",
        "    return pd.DataFrame(topic_dict)"
      ],
      "execution_count": 0,
      "outputs": []
    },
    {
      "cell_type": "code",
      "metadata": {
        "id": "T9k4k16p1Cqf",
        "colab_type": "code",
        "outputId": "16196c59-f664-4644-889f-827ec499faeb",
        "colab": {
          "base_uri": "https://localhost:8080/",
          "height": 413
        }
      },
      "source": [
        "no_top_words = 10\n",
        "display_topics(model, tf_feature_names, no_top_words)"
      ],
      "execution_count": 0,
      "outputs": [
        {
          "output_type": "execute_result",
          "data": {
            "text/html": [
              "<div>\n",
              "<style scoped>\n",
              "    .dataframe tbody tr th:only-of-type {\n",
              "        vertical-align: middle;\n",
              "    }\n",
              "\n",
              "    .dataframe tbody tr th {\n",
              "        vertical-align: top;\n",
              "    }\n",
              "\n",
              "    .dataframe thead th {\n",
              "        text-align: right;\n",
              "    }\n",
              "</style>\n",
              "<table border=\"1\" class=\"dataframe\">\n",
              "  <thead>\n",
              "    <tr style=\"text-align: right;\">\n",
              "      <th></th>\n",
              "      <th>Topic 0 words</th>\n",
              "      <th>Topic 0 weights</th>\n",
              "      <th>Topic 1 words</th>\n",
              "      <th>Topic 1 weights</th>\n",
              "      <th>Topic 2 words</th>\n",
              "      <th>Topic 2 weights</th>\n",
              "      <th>Topic 3 words</th>\n",
              "      <th>Topic 3 weights</th>\n",
              "      <th>Topic 4 words</th>\n",
              "      <th>Topic 4 weights</th>\n",
              "      <th>Topic 5 words</th>\n",
              "      <th>Topic 5 weights</th>\n",
              "      <th>Topic 6 words</th>\n",
              "      <th>Topic 6 weights</th>\n",
              "      <th>Topic 7 words</th>\n",
              "      <th>Topic 7 weights</th>\n",
              "      <th>Topic 8 words</th>\n",
              "      <th>Topic 8 weights</th>\n",
              "      <th>Topic 9 words</th>\n",
              "      <th>Topic 9 weights</th>\n",
              "    </tr>\n",
              "  </thead>\n",
              "  <tbody>\n",
              "    <tr>\n",
              "      <th>0</th>\n",
              "      <td>climat</td>\n",
              "      <td>1220.2</td>\n",
              "      <td>global</td>\n",
              "      <td>666.5</td>\n",
              "      <td>global</td>\n",
              "      <td>1147.2</td>\n",
              "      <td>global</td>\n",
              "      <td>473.1</td>\n",
              "      <td>climat</td>\n",
              "      <td>422.0</td>\n",
              "      <td>global</td>\n",
              "      <td>783.0</td>\n",
              "      <td>chang</td>\n",
              "      <td>666.1</td>\n",
              "      <td>warm</td>\n",
              "      <td>167.9</td>\n",
              "      <td>climat</td>\n",
              "      <td>568.3</td>\n",
              "      <td>climat</td>\n",
              "      <td>529.9</td>\n",
              "    </tr>\n",
              "    <tr>\n",
              "      <th>1</th>\n",
              "      <td>chang</td>\n",
              "      <td>1184.5</td>\n",
              "      <td>warm</td>\n",
              "      <td>658.1</td>\n",
              "      <td>warm</td>\n",
              "      <td>1102.1</td>\n",
              "      <td>warm</td>\n",
              "      <td>450.7</td>\n",
              "      <td>chang</td>\n",
              "      <td>401.8</td>\n",
              "      <td>warm</td>\n",
              "      <td>764.7</td>\n",
              "      <td>climat</td>\n",
              "      <td>661.6</td>\n",
              "      <td>#climate</td>\n",
              "      <td>139.2</td>\n",
              "      <td>chang</td>\n",
              "      <td>550.5</td>\n",
              "      <td>chang</td>\n",
              "      <td>520.6</td>\n",
              "    </tr>\n",
              "    <tr>\n",
              "      <th>2</th>\n",
              "      <td>via</td>\n",
              "      <td>257.9</td>\n",
              "      <td>snow</td>\n",
              "      <td>160.5</td>\n",
              "      <td>scientist</td>\n",
              "      <td>150.2</td>\n",
              "      <td>believ</td>\n",
              "      <td>101.3</td>\n",
              "      <td>legisl</td>\n",
              "      <td>123.2</td>\n",
              "      <td>gore</td>\n",
              "      <td>137.1</td>\n",
              "      <td>energi</td>\n",
              "      <td>178.8</td>\n",
              "      <td>volcano</td>\n",
              "      <td>128.9</td>\n",
              "      <td>new</td>\n",
              "      <td>321.1</td>\n",
              "      <td>peopl</td>\n",
              "      <td>153.4</td>\n",
              "    </tr>\n",
              "    <tr>\n",
              "      <th>3</th>\n",
              "      <td>scienc</td>\n",
              "      <td>112.9</td>\n",
              "      <td>#tcot</td>\n",
              "      <td>121.6</td>\n",
              "      <td>say</td>\n",
              "      <td>87.1</td>\n",
              "      <td>california</td>\n",
              "      <td>87.1</td>\n",
              "      <td>us</td>\n",
              "      <td>105.1</td>\n",
              "      <td>snow</td>\n",
              "      <td>123.7</td>\n",
              "      <td>u</td>\n",
              "      <td>109.8</td>\n",
              "      <td>global</td>\n",
              "      <td>128.6</td>\n",
              "      <td>bill</td>\n",
              "      <td>116.9</td>\n",
              "      <td>world</td>\n",
              "      <td>151.3</td>\n",
              "    </tr>\n",
              "    <tr>\n",
              "      <th>4</th>\n",
              "      <td>news</td>\n",
              "      <td>79.5</td>\n",
              "      <td>like</td>\n",
              "      <td>99.0</td>\n",
              "      <td>scienc</td>\n",
              "      <td>71.7</td>\n",
              "      <td>blame</td>\n",
              "      <td>82.1</td>\n",
              "      <td>via</td>\n",
              "      <td>60.5</td>\n",
              "      <td>al</td>\n",
              "      <td>122.1</td>\n",
              "      <td>via</td>\n",
              "      <td>96.5</td>\n",
              "      <td>chang</td>\n",
              "      <td>122.0</td>\n",
              "      <td>senat</td>\n",
              "      <td>106.1</td>\n",
              "      <td>confer</td>\n",
              "      <td>110.1</td>\n",
              "    </tr>\n",
              "    <tr>\n",
              "      <th>5</th>\n",
              "      <td>day</td>\n",
              "      <td>77.8</td>\n",
              "      <td>blizzard</td>\n",
              "      <td>90.9</td>\n",
              "      <td>debat</td>\n",
              "      <td>66.6</td>\n",
              "      <td>law</td>\n",
              "      <td>78.6</td>\n",
              "      <td>say</td>\n",
              "      <td>55.9</td>\n",
              "      <td>great</td>\n",
              "      <td>94.1</td>\n",
              "      <td>nation</td>\n",
              "      <td>89.0</td>\n",
              "      <td>help</td>\n",
              "      <td>114.1</td>\n",
              "      <td>agenc</td>\n",
              "      <td>95.1</td>\n",
              "      <td>bill</td>\n",
              "      <td>106.4</td>\n",
              "    </tr>\n",
              "    <tr>\n",
              "      <th>6</th>\n",
              "      <td>earth</td>\n",
              "      <td>68.2</td>\n",
              "      <td>dc</td>\n",
              "      <td>86.5</td>\n",
              "      <td>man</td>\n",
              "      <td>61.1</td>\n",
              "      <td>report</td>\n",
              "      <td>77.8</td>\n",
              "      <td>video</td>\n",
              "      <td>55.9</td>\n",
              "      <td>cold</td>\n",
              "      <td>77.1</td>\n",
              "      <td>make</td>\n",
              "      <td>74.5</td>\n",
              "      <td>take</td>\n",
              "      <td>96.8</td>\n",
              "      <td>immigr</td>\n",
              "      <td>77.7</td>\n",
              "      <td>talk</td>\n",
              "      <td>94.8</td>\n",
              "    </tr>\n",
              "    <tr>\n",
              "      <th>7</th>\n",
              "      <td>trial</td>\n",
              "      <td>68.1</td>\n",
              "      <td>think</td>\n",
              "      <td>83.3</td>\n",
              "      <td>made</td>\n",
              "      <td>54.0</td>\n",
              "      <td>save</td>\n",
              "      <td>61.8</td>\n",
              "      <td>place</td>\n",
              "      <td>54.1</td>\n",
              "      <td>call</td>\n",
              "      <td>76.5</td>\n",
              "      <td>impact</td>\n",
              "      <td>67.5</td>\n",
              "      <td>climat</td>\n",
              "      <td>76.7</td>\n",
              "      <td>obama</td>\n",
              "      <td>75.6</td>\n",
              "      <td>graham</td>\n",
              "      <td>92.1</td>\n",
              "    </tr>\n",
              "    <tr>\n",
              "      <th>8</th>\n",
              "      <td>clinic</td>\n",
              "      <td>68.1</td>\n",
              "      <td>due</td>\n",
              "      <td>80.1</td>\n",
              "      <td>show</td>\n",
              "      <td>51.9</td>\n",
              "      <td>money</td>\n",
              "      <td>56.1</td>\n",
              "      <td>good</td>\n",
              "      <td>52.6</td>\n",
              "      <td>#tcot</td>\n",
              "      <td>75.3</td>\n",
              "      <td>report</td>\n",
              "      <td>63.4</td>\n",
              "      <td>iceland</td>\n",
              "      <td>67.1</td>\n",
              "      <td>feder</td>\n",
              "      <td>67.1</td>\n",
              "      <td>un</td>\n",
              "      <td>77.6</td>\n",
              "    </tr>\n",
              "    <tr>\n",
              "      <th>9</th>\n",
              "      <td>carbon</td>\n",
              "      <td>64.5</td>\n",
              "      <td>make</td>\n",
              "      <td>70.4</td>\n",
              "      <td>water</td>\n",
              "      <td>50.6</td>\n",
              "      <td>live</td>\n",
              "      <td>49.3</td>\n",
              "      <td>human</td>\n",
              "      <td>48.2</td>\n",
              "      <td>one</td>\n",
              "      <td>72.1</td>\n",
              "      <td>issu</td>\n",
              "      <td>58.8</td>\n",
              "      <td>could</td>\n",
              "      <td>64.5</td>\n",
              "      <td>via</td>\n",
              "      <td>58.6</td>\n",
              "      <td>put</td>\n",
              "      <td>68.8</td>\n",
              "    </tr>\n",
              "  </tbody>\n",
              "</table>\n",
              "</div>"
            ],
            "text/plain": [
              "  Topic 0 words Topic 0 weights  ... Topic 9 words Topic 9 weights\n",
              "0        climat          1220.2  ...        climat           529.9\n",
              "1         chang          1184.5  ...         chang           520.6\n",
              "2           via           257.9  ...         peopl           153.4\n",
              "3        scienc           112.9  ...         world           151.3\n",
              "4          news            79.5  ...        confer           110.1\n",
              "5           day            77.8  ...          bill           106.4\n",
              "6         earth            68.2  ...          talk            94.8\n",
              "7         trial            68.1  ...        graham            92.1\n",
              "8        clinic            68.1  ...            un            77.6\n",
              "9        carbon            64.5  ...           put            68.8\n",
              "\n",
              "[10 rows x 20 columns]"
            ]
          },
          "metadata": {
            "tags": []
          },
          "execution_count": 76
        }
      ]
    },
    {
      "cell_type": "code",
      "metadata": {
        "id": "PgHx5mbf1Xdn",
        "colab_type": "code",
        "colab": {}
      },
      "source": [
        "from sklearn.decomposition import NMF"
      ],
      "execution_count": 0,
      "outputs": []
    },
    {
      "cell_type": "markdown",
      "metadata": {
        "id": "aJA0ba3s-M7p",
        "colab_type": "text"
      },
      "source": [
        "##NMF"
      ]
    },
    {
      "cell_type": "code",
      "metadata": {
        "id": "5J4xtpfQ1xM2",
        "colab_type": "code",
        "colab": {}
      },
      "source": [
        "model = NMF(n_components=10, random_state=0, alpha=.1, l1_ratio=.5)"
      ],
      "execution_count": 0,
      "outputs": []
    },
    {
      "cell_type": "code",
      "metadata": {
        "id": "OIZ1PQ7q2Azj",
        "colab_type": "code",
        "outputId": "0eb74254-3963-420c-8e27-6b6cb53d2768",
        "colab": {
          "base_uri": "https://localhost:8080/",
          "height": 68
        }
      },
      "source": [
        "model.fit(tf)"
      ],
      "execution_count": 0,
      "outputs": [
        {
          "output_type": "execute_result",
          "data": {
            "text/plain": [
              "NMF(alpha=0.1, beta_loss='frobenius', init=None, l1_ratio=0.5, max_iter=200,\n",
              "    n_components=10, random_state=0, shuffle=False, solver='cd', tol=0.0001,\n",
              "    verbose=0)"
            ]
          },
          "metadata": {
            "tags": []
          },
          "execution_count": 81
        }
      ]
    },
    {
      "cell_type": "code",
      "metadata": {
        "id": "ciQHhC2b2LWv",
        "colab_type": "code",
        "colab": {}
      },
      "source": [
        "def display_topics(model, feature_names, no_top_words):\n",
        "    topic_dict = {}\n",
        "    for topic_idx, topic in enumerate(model.components_):\n",
        "        topic_dict[\"Topic %d words\" % (topic_idx)]= ['{}'.format(feature_names[i])\n",
        "                        for i in topic.argsort()[:-no_top_words - 1:-1]]\n",
        "        topic_dict[\"Topic %d weights\" % (topic_idx)]= ['{:.1f}'.format(topic[i])\n",
        "                        for i in topic.argsort()[:-no_top_words - 1:-1]]\n",
        "    return pd.DataFrame(topic_dict)"
      ],
      "execution_count": 0,
      "outputs": []
    },
    {
      "cell_type": "code",
      "metadata": {
        "id": "xn9b0_aO2PGp",
        "colab_type": "code",
        "outputId": "2701b002-ce74-4d3e-91a1-76c732b6434b",
        "colab": {
          "base_uri": "https://localhost:8080/",
          "height": 413
        }
      },
      "source": [
        "no_top_words = 10\n",
        "display_topics(model, tf_feature_names, no_top_words)"
      ],
      "execution_count": 0,
      "outputs": [
        {
          "output_type": "execute_result",
          "data": {
            "text/html": [
              "<div>\n",
              "<style scoped>\n",
              "    .dataframe tbody tr th:only-of-type {\n",
              "        vertical-align: middle;\n",
              "    }\n",
              "\n",
              "    .dataframe tbody tr th {\n",
              "        vertical-align: top;\n",
              "    }\n",
              "\n",
              "    .dataframe thead th {\n",
              "        text-align: right;\n",
              "    }\n",
              "</style>\n",
              "<table border=\"1\" class=\"dataframe\">\n",
              "  <thead>\n",
              "    <tr style=\"text-align: right;\">\n",
              "      <th></th>\n",
              "      <th>Topic 0 words</th>\n",
              "      <th>Topic 0 weights</th>\n",
              "      <th>Topic 1 words</th>\n",
              "      <th>Topic 1 weights</th>\n",
              "      <th>Topic 2 words</th>\n",
              "      <th>Topic 2 weights</th>\n",
              "      <th>Topic 3 words</th>\n",
              "      <th>Topic 3 weights</th>\n",
              "      <th>Topic 4 words</th>\n",
              "      <th>Topic 4 weights</th>\n",
              "      <th>Topic 5 words</th>\n",
              "      <th>Topic 5 weights</th>\n",
              "      <th>Topic 6 words</th>\n",
              "      <th>Topic 6 weights</th>\n",
              "      <th>Topic 7 words</th>\n",
              "      <th>Topic 7 weights</th>\n",
              "      <th>Topic 8 words</th>\n",
              "      <th>Topic 8 weights</th>\n",
              "      <th>Topic 9 words</th>\n",
              "      <th>Topic 9 weights</th>\n",
              "    </tr>\n",
              "  </thead>\n",
              "  <tbody>\n",
              "    <tr>\n",
              "      <th>0</th>\n",
              "      <td>climat</td>\n",
              "      <td>10.8</td>\n",
              "      <td>global</td>\n",
              "      <td>9.3</td>\n",
              "      <td>via</td>\n",
              "      <td>7.7</td>\n",
              "      <td>snow</td>\n",
              "      <td>5.4</td>\n",
              "      <td>bill</td>\n",
              "      <td>5.2</td>\n",
              "      <td>new</td>\n",
              "      <td>6.0</td>\n",
              "      <td>#climate</td>\n",
              "      <td>4.9</td>\n",
              "      <td>peopl</td>\n",
              "      <td>3.8</td>\n",
              "      <td>say</td>\n",
              "      <td>4.4</td>\n",
              "      <td>#tcot</td>\n",
              "      <td>5.6</td>\n",
              "    </tr>\n",
              "    <tr>\n",
              "      <th>1</th>\n",
              "      <td>chang</td>\n",
              "      <td>9.8</td>\n",
              "      <td>warm</td>\n",
              "      <td>9.1</td>\n",
              "      <td>news</td>\n",
              "      <td>1.5</td>\n",
              "      <td>dc</td>\n",
              "      <td>1.9</td>\n",
              "      <td>senat</td>\n",
              "      <td>2.5</td>\n",
              "      <td>agenc</td>\n",
              "      <td>1.9</td>\n",
              "      <td>chang</td>\n",
              "      <td>4.6</td>\n",
              "      <td>world</td>\n",
              "      <td>3.4</td>\n",
              "      <td>report</td>\n",
              "      <td>3.3</td>\n",
              "      <td>#p</td>\n",
              "      <td>1.7</td>\n",
              "    </tr>\n",
              "    <tr>\n",
              "      <th>2</th>\n",
              "      <td>energi</td>\n",
              "      <td>0.3</td>\n",
              "      <td>make</td>\n",
              "      <td>0.3</td>\n",
              "      <td>humanitarian</td>\n",
              "      <td>0.6</td>\n",
              "      <td>gore</td>\n",
              "      <td>1.4</td>\n",
              "      <td>graham</td>\n",
              "      <td>1.6</td>\n",
              "      <td>obama</td>\n",
              "      <td>1.2</td>\n",
              "      <td>#global</td>\n",
              "      <td>1.0</td>\n",
              "      <td>earth</td>\n",
              "      <td>2.3</td>\n",
              "      <td>caus</td>\n",
              "      <td>2.4</td>\n",
              "      <td>#teaparty</td>\n",
              "      <td>1.0</td>\n",
              "    </tr>\n",
              "    <tr>\n",
              "      <th>3</th>\n",
              "      <td>scienc</td>\n",
              "      <td>0.3</td>\n",
              "      <td>could</td>\n",
              "      <td>0.2</td>\n",
              "      <td>chang</td>\n",
              "      <td>0.4</td>\n",
              "      <td>al</td>\n",
              "      <td>1.3</td>\n",
              "      <td>put</td>\n",
              "      <td>1.1</td>\n",
              "      <td>feder</td>\n",
              "      <td>1.2</td>\n",
              "      <td>#eco</td>\n",
              "      <td>0.8</td>\n",
              "      <td>confer</td>\n",
              "      <td>2.2</td>\n",
              "      <td>scientist</td>\n",
              "      <td>1.8</td>\n",
              "      <td>#gop</td>\n",
              "      <td>0.6</td>\n",
              "    </tr>\n",
              "    <tr>\n",
              "      <th>4</th>\n",
              "      <td>fight</td>\n",
              "      <td>0.3</td>\n",
              "      <td>scienc</td>\n",
              "      <td>0.2</td>\n",
              "      <td>india</td>\n",
              "      <td>0.3</td>\n",
              "      <td>mean</td>\n",
              "      <td>1.2</td>\n",
              "      <td>limbo</td>\n",
              "      <td>0.8</td>\n",
              "      <td>form</td>\n",
              "      <td>1.0</td>\n",
              "      <td>warm</td>\n",
              "      <td>0.7</td>\n",
              "      <td>right</td>\n",
              "      <td>1.3</td>\n",
              "      <td>us</td>\n",
              "      <td>1.0</td>\n",
              "      <td>scam</td>\n",
              "      <td>0.6</td>\n",
              "    </tr>\n",
              "    <tr>\n",
              "      <th>5</th>\n",
              "      <td>legisl</td>\n",
              "      <td>0.3</td>\n",
              "      <td>think</td>\n",
              "      <td>0.2</td>\n",
              "      <td>com</td>\n",
              "      <td>0.2</td>\n",
              "      <td>jr</td>\n",
              "      <td>1.0</td>\n",
              "      <td>exit</td>\n",
              "      <td>0.8</td>\n",
              "      <td>studi</td>\n",
              "      <td>0.7</td>\n",
              "      <td>us</td>\n",
              "      <td>0.4</td>\n",
              "      <td>bolivia</td>\n",
              "      <td>1.0</td>\n",
              "      <td>govern</td>\n",
              "      <td>0.8</td>\n",
              "      <td>dc</td>\n",
              "      <td>0.6</td>\n",
              "    </tr>\n",
              "    <tr>\n",
              "      <th>6</th>\n",
              "      <td>u</td>\n",
              "      <td>0.3</td>\n",
              "      <td>stop</td>\n",
              "      <td>0.2</td>\n",
              "      <td>un</td>\n",
              "      <td>0.1</td>\n",
              "      <td>storm</td>\n",
              "      <td>1.0</td>\n",
              "      <td>climat</td>\n",
              "      <td>0.7</td>\n",
              "      <td>administr</td>\n",
              "      <td>0.7</td>\n",
              "      <td>fact</td>\n",
              "      <td>0.3</td>\n",
              "      <td>day</td>\n",
              "      <td>1.0</td>\n",
              "      <td>may</td>\n",
              "      <td>0.8</td>\n",
              "      <td>gore</td>\n",
              "      <td>0.5</td>\n",
              "    </tr>\n",
              "    <tr>\n",
              "      <th>7</th>\n",
              "      <td>un</td>\n",
              "      <td>0.3</td>\n",
              "      <td>effect</td>\n",
              "      <td>0.2</td>\n",
              "      <td>environ</td>\n",
              "      <td>0.1</td>\n",
              "      <td>cold</td>\n",
              "      <td>0.9</td>\n",
              "      <td>compromis</td>\n",
              "      <td>0.7</td>\n",
              "      <td>propos</td>\n",
              "      <td>0.6</td>\n",
              "      <td>nasa</td>\n",
              "      <td>0.3</td>\n",
              "      <td>mother</td>\n",
              "      <td>1.0</td>\n",
              "      <td>u</td>\n",
              "      <td>0.4</td>\n",
              "      <td>#ocra</td>\n",
              "      <td>0.5</td>\n",
              "    </tr>\n",
              "    <tr>\n",
              "      <th>8</th>\n",
              "      <td>get</td>\n",
              "      <td>0.2</td>\n",
              "      <td>volcano</td>\n",
              "      <td>0.2</td>\n",
              "      <td>mean</td>\n",
              "      <td>0.1</td>\n",
              "      <td>washington</td>\n",
              "      <td>0.9</td>\n",
              "      <td>prepar</td>\n",
              "      <td>0.7</td>\n",
              "      <td>york</td>\n",
              "      <td>0.6</td>\n",
              "      <td>#p</td>\n",
              "      <td>0.3</td>\n",
              "      <td>indigen</td>\n",
              "      <td>0.4</td>\n",
              "      <td>carbon</td>\n",
              "      <td>0.3</td>\n",
              "      <td>al</td>\n",
              "      <td>0.5</td>\n",
              "    </tr>\n",
              "    <tr>\n",
              "      <th>9</th>\n",
              "      <td>action</td>\n",
              "      <td>0.2</td>\n",
              "      <td>believ</td>\n",
              "      <td>0.2</td>\n",
              "      <td>impact</td>\n",
              "      <td>0.1</td>\n",
              "      <td>ago</td>\n",
              "      <td>0.9</td>\n",
              "      <td>immigr</td>\n",
              "      <td>0.6</td>\n",
              "      <td>report</td>\n",
              "      <td>0.5</td>\n",
              "      <td>thought</td>\n",
              "      <td>0.3</td>\n",
              "      <td>cochabamba</td>\n",
              "      <td>0.3</td>\n",
              "      <td>china</td>\n",
              "      <td>0.3</td>\n",
              "      <td>#tlot</td>\n",
              "      <td>0.5</td>\n",
              "    </tr>\n",
              "  </tbody>\n",
              "</table>\n",
              "</div>"
            ],
            "text/plain": [
              "  Topic 0 words Topic 0 weights  ... Topic 9 words Topic 9 weights\n",
              "0        climat            10.8  ...         #tcot             5.6\n",
              "1         chang             9.8  ...            #p             1.7\n",
              "2        energi             0.3  ...     #teaparty             1.0\n",
              "3        scienc             0.3  ...          #gop             0.6\n",
              "4         fight             0.3  ...          scam             0.6\n",
              "5        legisl             0.3  ...            dc             0.6\n",
              "6             u             0.3  ...          gore             0.5\n",
              "7            un             0.3  ...         #ocra             0.5\n",
              "8           get             0.2  ...            al             0.5\n",
              "9        action             0.2  ...         #tlot             0.5\n",
              "\n",
              "[10 rows x 20 columns]"
            ]
          },
          "metadata": {
            "tags": []
          },
          "execution_count": 83
        }
      ]
    }
  ]
}