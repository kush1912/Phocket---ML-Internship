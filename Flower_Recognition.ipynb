{
  "nbformat": 4,
  "nbformat_minor": 0,
  "metadata": {
    "colab": {
      "name": "Flower_Recognition.ipynb",
      "provenance": [],
      "include_colab_link": true
    },
    "kernelspec": {
      "name": "python3",
      "display_name": "Python 3"
    },
    "accelerator": "GPU"
  },
  "cells": [
    {
      "cell_type": "markdown",
      "metadata": {
        "id": "view-in-github",
        "colab_type": "text"
      },
      "source": [
        "<a href=\"https://colab.research.google.com/github/kush1912/Phocket---ML-Internship/blob/master/Flower_Recognition.ipynb\" target=\"_parent\"><img src=\"https://colab.research.google.com/assets/colab-badge.svg\" alt=\"Open In Colab\"/></a>"
      ]
    },
    {
      "cell_type": "code",
      "metadata": {
        "id": "gKFOFl2a2EM1",
        "colab_type": "code",
        "outputId": "937eae45-5bd9-4647-862e-499a377bd3b5",
        "colab": {
          "base_uri": "https://localhost:8080/",
          "height": 34
        }
      },
      "source": [
        "from keras.models import Sequential\n",
        "\n",
        "from keras.layers import Convolution2D\n",
        "\n",
        "from keras.layers import MaxPooling2D,AveragePooling2D\n",
        "\n",
        "from keras.layers import Flatten\n",
        "\n",
        "from keras.layers import Dense\n",
        "\n",
        "from keras.layers import Activation\n",
        "\n",
        "from keras.layers import Dropout\n",
        "\n",
        "from keras.optimizers import SGD\n",
        "\n",
        "from keras.layers.normalization import BatchNormalization"
      ],
      "execution_count": 0,
      "outputs": [
        {
          "output_type": "stream",
          "text": [
            "Using TensorFlow backend.\n"
          ],
          "name": "stderr"
        }
      ]
    },
    {
      "cell_type": "code",
      "metadata": {
        "id": "NshfxPOW2XgB",
        "colab_type": "code",
        "outputId": "411a6e67-e5e0-4942-f005-29b4cf707a25",
        "colab": {
          "base_uri": "https://localhost:8080/",
          "height": 224
        }
      },
      "source": [
        "# Initialising the CNN\n",
        "model = Sequential()\n",
        "\n",
        "# 1 - Convolution\n",
        "model.add(Convolution2D(64,(3,3), border_mode='same', input_shape=(48, 48, 3)))\n",
        "model.add(BatchNormalization())\n",
        "model.add(Activation('relu'))\n",
        "model.add(MaxPooling2D(pool_size=(2, 2)))\n",
        "model.add(Dropout(0.25))\n",
        "\n",
        "# 2nd Convolution layer\n",
        "model.add(Convolution2D(128,(5,5), border_mode='same'))\n",
        "model.add(BatchNormalization())\n",
        "model.add(Activation('relu'))\n",
        "model.add(MaxPooling2D(pool_size=(2, 2)))\n",
        "model.add(Dropout(0.25))\n",
        "\n",
        "\n",
        "# 3rd Convolution layer\n",
        "model.add(Convolution2D(512,(3,3), border_mode='same'))\n",
        "model.add(BatchNormalization())\n",
        "model.add(Activation('relu'))\n",
        "model.add(MaxPooling2D(pool_size=(2, 2)))\n",
        "model.add(Dropout(0.25))\n",
        "\n",
        "\n",
        "# Flattening\n",
        "model.add(Flatten())\n",
        "\n",
        "# Fully connected layer 1st layer\n",
        "model.add(Dense(256))\n",
        "model.add(BatchNormalization())\n",
        "model.add(Activation('relu'))\n",
        "model.add(Dropout(0.25))\n",
        "\n",
        "\n",
        "# Fully connected layer 2nd layer\n",
        "model.add(Dense(512))\n",
        "model.add(BatchNormalization())\n",
        "model.add(Activation('relu'))\n",
        "model.add(Dropout(0.25))\n",
        "\n",
        "model.add(Dense(5, activation='sigmoid'))\n",
        "\n",
        "model.compile(optimizer='adam', loss='categorical_crossentropy', metrics=['accuracy'])"
      ],
      "execution_count": 0,
      "outputs": [
        {
          "output_type": "stream",
          "text": [
            "WARNING:tensorflow:From /usr/local/lib/python3.6/dist-packages/tensorflow/python/framework/op_def_library.py:263: colocate_with (from tensorflow.python.framework.ops) is deprecated and will be removed in a future version.\n",
            "Instructions for updating:\n",
            "Colocations handled automatically by placer.\n"
          ],
          "name": "stdout"
        },
        {
          "output_type": "stream",
          "text": [
            "/usr/local/lib/python3.6/dist-packages/ipykernel_launcher.py:4: UserWarning: Update your `Conv2D` call to the Keras 2 API: `Conv2D(64, (3, 3), input_shape=(48, 48, 3..., padding=\"same\")`\n",
            "  after removing the cwd from sys.path.\n"
          ],
          "name": "stderr"
        },
        {
          "output_type": "stream",
          "text": [
            "WARNING:tensorflow:From /usr/local/lib/python3.6/dist-packages/keras/backend/tensorflow_backend.py:3445: calling dropout (from tensorflow.python.ops.nn_ops) with keep_prob is deprecated and will be removed in a future version.\n",
            "Instructions for updating:\n",
            "Please use `rate` instead of `keep_prob`. Rate should be set to `rate = 1 - keep_prob`.\n"
          ],
          "name": "stdout"
        },
        {
          "output_type": "stream",
          "text": [
            "/usr/local/lib/python3.6/dist-packages/ipykernel_launcher.py:11: UserWarning: Update your `Conv2D` call to the Keras 2 API: `Conv2D(128, (5, 5), padding=\"same\")`\n",
            "  # This is added back by InteractiveShellApp.init_path()\n",
            "/usr/local/lib/python3.6/dist-packages/ipykernel_launcher.py:19: UserWarning: Update your `Conv2D` call to the Keras 2 API: `Conv2D(512, (3, 3), padding=\"same\")`\n"
          ],
          "name": "stderr"
        }
      ]
    },
    {
      "cell_type": "code",
      "metadata": {
        "id": "oWNvUV-D2ais",
        "colab_type": "code",
        "outputId": "1e2b4cb6-3a02-4c85-ca7b-b5f12de6a59a",
        "colab": {
          "base_uri": "https://localhost:8080/",
          "height": 34
        }
      },
      "source": [
        "from zipfile import ZipFile\n",
        "file_name='TESTING.zip'\n",
        "\n",
        "with ZipFile(file_name,'r') as zip:\n",
        "    zip.extractall()\n",
        "    print('Done')"
      ],
      "execution_count": 0,
      "outputs": [
        {
          "output_type": "stream",
          "text": [
            "Done\n"
          ],
          "name": "stdout"
        }
      ]
    },
    {
      "cell_type": "code",
      "metadata": {
        "id": "0qEBJEcg2cl2",
        "colab_type": "code",
        "outputId": "e5b51c4b-09f6-466b-8ebb-ab401c3e12b4",
        "colab": {
          "base_uri": "https://localhost:8080/",
          "height": 34
        }
      },
      "source": [
        "from zipfile import ZipFile\n",
        "file_name='Class.zip'\n",
        "\n",
        "with ZipFile(file_name,'r') as zip:\n",
        "    zip.extractall()\n",
        "    print('Done')"
      ],
      "execution_count": 0,
      "outputs": [
        {
          "output_type": "stream",
          "text": [
            "Done\n"
          ],
          "name": "stdout"
        }
      ]
    },
    {
      "cell_type": "code",
      "metadata": {
        "id": "RIuK06Ld2fNv",
        "colab_type": "code",
        "outputId": "e42f71b9-da91-4819-8624-dbc421972d52",
        "colab": {
          "base_uri": "https://localhost:8080/",
          "height": 5851
        }
      },
      "source": [
        "from keras.callbacks import ModelCheckpoint\n",
        "from keras.preprocessing.image import ImageDataGenerator\n",
        "\n",
        "train_datagen =  ImageDataGenerator(\n",
        "        rescale=1./255,\n",
        "        shear_range=0.2,\n",
        "        zoom_range=0.2,\n",
        "        horizontal_flip=True)\n",
        "\n",
        "test_datagen =  ImageDataGenerator(rescale=1./255)\n",
        "\n",
        "training_set = train_datagen.flow_from_directory('Class/TRAINING',\n",
        "                                                 target_size=(48, 48),\n",
        "                                                 batch_size=64,\n",
        "                                                 class_mode='categorical',color_mode='rgb')\n",
        "\n",
        "test_set = test_datagen.flow_from_directory('Class/VALIDATION',\n",
        "                                             target_size=(48, 48),\n",
        "                                             batch_size=64,\n",
        "                                             class_mode='categorical',color_mode='rgb')\n",
        "\n",
        "#Save partly trained model# save best weights\n",
        "checkpointer = ModelCheckpoint(filepath='Flower.h5', verbose=1, save_best_only=True)\n",
        "\n",
        "\n",
        "model.fit_generator(training_set,\n",
        "                         steps_per_epoch=3683/100,\n",
        "                         epochs=50,\n",
        "                         validation_data=test_set,callbacks=[checkpointer],\n",
        "                         validation_steps=759/100,verbose=1)\n",
        "\n",
        "model.summary()"
      ],
      "execution_count": 0,
      "outputs": [
        {
          "output_type": "stream",
          "text": [
            "Found 3377 images belonging to 5 classes.\n",
            "Found 473 images belonging to 5 classes.\n",
            "WARNING:tensorflow:From /usr/local/lib/python3.6/dist-packages/tensorflow/python/ops/math_ops.py:3066: to_int32 (from tensorflow.python.ops.math_ops) is deprecated and will be removed in a future version.\n",
            "Instructions for updating:\n",
            "Use tf.cast instead.\n",
            "Epoch 1/70\n",
            "37/36 [==============================] - 22s 598ms/step - loss: 1.2915 - acc: 0.4472 - val_loss: 1.6374 - val_acc: 0.4443\n",
            "\n",
            "Epoch 00001: val_loss improved from inf to 1.63744, saving model to Flower.h5\n",
            "Epoch 2/70\n",
            "37/36 [==============================] - 16s 431ms/step - loss: 1.1223 - acc: 0.5416 - val_loss: 1.6326 - val_acc: 0.4287\n",
            "\n",
            "Epoch 00002: val_loss improved from 1.63744 to 1.63259, saving model to Flower.h5\n",
            "Epoch 3/70\n",
            "37/36 [==============================] - 16s 432ms/step - loss: 1.0959 - acc: 0.5614 - val_loss: 1.3465 - val_acc: 0.4735\n",
            "\n",
            "Epoch 00003: val_loss improved from 1.63259 to 1.34651, saving model to Flower.h5\n",
            "Epoch 4/70\n",
            "37/36 [==============================] - 16s 432ms/step - loss: 0.9858 - acc: 0.6047 - val_loss: 1.1841 - val_acc: 0.5679\n",
            "\n",
            "Epoch 00004: val_loss improved from 1.34651 to 1.18405, saving model to Flower.h5\n",
            "Epoch 5/70\n",
            "37/36 [==============================] - 16s 436ms/step - loss: 0.9501 - acc: 0.6245 - val_loss: 1.4019 - val_acc: 0.4673\n",
            "\n",
            "Epoch 00005: val_loss did not improve from 1.18405\n",
            "Epoch 6/70\n",
            "37/36 [==============================] - 16s 430ms/step - loss: 0.9032 - acc: 0.6480 - val_loss: 1.1386 - val_acc: 0.5610\n",
            "\n",
            "Epoch 00006: val_loss improved from 1.18405 to 1.13864, saving model to Flower.h5\n",
            "Epoch 7/70\n",
            "37/36 [==============================] - 16s 436ms/step - loss: 0.8662 - acc: 0.6575 - val_loss: 1.4151 - val_acc: 0.5258\n",
            "\n",
            "Epoch 00007: val_loss did not improve from 1.13864\n",
            "Epoch 8/70\n",
            "37/36 [==============================] - 16s 429ms/step - loss: 0.8008 - acc: 0.6747 - val_loss: 1.5162 - val_acc: 0.5219\n",
            "\n",
            "Epoch 00008: val_loss did not improve from 1.13864\n",
            "Epoch 9/70\n",
            "37/36 [==============================] - 16s 430ms/step - loss: 0.7783 - acc: 0.6816 - val_loss: 1.5255 - val_acc: 0.5772\n",
            "\n",
            "Epoch 00009: val_loss did not improve from 1.13864\n",
            "Epoch 10/70\n",
            "37/36 [==============================] - 16s 431ms/step - loss: 0.7788 - acc: 0.6917 - val_loss: 1.0681 - val_acc: 0.6200\n",
            "\n",
            "Epoch 00010: val_loss improved from 1.13864 to 1.06810, saving model to Flower.h5\n",
            "Epoch 11/70\n",
            "37/36 [==============================] - 16s 437ms/step - loss: 0.7556 - acc: 0.7036 - val_loss: 1.2677 - val_acc: 0.6025\n",
            "\n",
            "Epoch 00011: val_loss did not improve from 1.06810\n",
            "Epoch 12/70\n",
            "37/36 [==============================] - 16s 432ms/step - loss: 0.7440 - acc: 0.7159 - val_loss: 1.3312 - val_acc: 0.6068\n",
            "\n",
            "Epoch 00012: val_loss did not improve from 1.06810\n",
            "Epoch 13/70\n",
            "37/36 [==============================] - 16s 431ms/step - loss: 0.6927 - acc: 0.7277 - val_loss: 1.1268 - val_acc: 0.6694\n",
            "\n",
            "Epoch 00013: val_loss did not improve from 1.06810\n",
            "Epoch 14/70\n",
            "37/36 [==============================] - 16s 432ms/step - loss: 0.6801 - acc: 0.7314 - val_loss: 1.1556 - val_acc: 0.5961\n",
            "\n",
            "Epoch 00014: val_loss did not improve from 1.06810\n",
            "Epoch 15/70\n",
            "37/36 [==============================] - 16s 437ms/step - loss: 0.7045 - acc: 0.7197 - val_loss: 0.9015 - val_acc: 0.6831\n",
            "\n",
            "Epoch 00015: val_loss improved from 1.06810 to 0.90155, saving model to Flower.h5\n",
            "Epoch 16/70\n",
            "37/36 [==============================] - 16s 428ms/step - loss: 0.6447 - acc: 0.7546 - val_loss: 0.8780 - val_acc: 0.6882\n",
            "\n",
            "Epoch 00016: val_loss improved from 0.90155 to 0.87800, saving model to Flower.h5\n",
            "Epoch 17/70\n",
            "37/36 [==============================] - 16s 438ms/step - loss: 0.6341 - acc: 0.7584 - val_loss: 1.3637 - val_acc: 0.5515\n",
            "\n",
            "Epoch 00017: val_loss did not improve from 0.87800\n",
            "Epoch 18/70\n",
            "37/36 [==============================] - 16s 432ms/step - loss: 0.6271 - acc: 0.7541 - val_loss: 1.5762 - val_acc: 0.5268\n",
            "\n",
            "Epoch 00018: val_loss did not improve from 0.87800\n",
            "Epoch 19/70\n",
            "37/36 [==============================] - 16s 431ms/step - loss: 0.5900 - acc: 0.7663 - val_loss: 1.1422 - val_acc: 0.6623\n",
            "\n",
            "Epoch 00019: val_loss did not improve from 0.87800\n",
            "Epoch 20/70\n",
            "37/36 [==============================] - 16s 430ms/step - loss: 0.5800 - acc: 0.7753 - val_loss: 0.8816 - val_acc: 0.7034\n",
            "\n",
            "Epoch 00020: val_loss did not improve from 0.87800\n",
            "Epoch 21/70\n",
            "37/36 [==============================] - 16s 433ms/step - loss: 0.5396 - acc: 0.7945 - val_loss: 1.1764 - val_acc: 0.6588\n",
            "\n",
            "Epoch 00021: val_loss did not improve from 0.87800\n",
            "Epoch 22/70\n",
            "37/36 [==============================] - 16s 434ms/step - loss: 0.5403 - acc: 0.7873 - val_loss: 1.8533 - val_acc: 0.5277\n",
            "\n",
            "Epoch 00022: val_loss did not improve from 0.87800\n",
            "Epoch 23/70\n",
            "37/36 [==============================] - 16s 431ms/step - loss: 0.5358 - acc: 0.7993 - val_loss: 0.9732 - val_acc: 0.6552\n",
            "\n",
            "Epoch 00023: val_loss did not improve from 0.87800\n",
            "Epoch 24/70\n",
            "37/36 [==============================] - 16s 429ms/step - loss: 0.5244 - acc: 0.7981 - val_loss: 1.4080 - val_acc: 0.5907\n",
            "\n",
            "Epoch 00024: val_loss did not improve from 0.87800\n",
            "Epoch 25/70\n",
            "37/36 [==============================] - 16s 431ms/step - loss: 0.4900 - acc: 0.8106 - val_loss: 0.8350 - val_acc: 0.7139\n",
            "\n",
            "Epoch 00025: val_loss improved from 0.87800 to 0.83499, saving model to Flower.h5\n",
            "Epoch 26/70\n",
            "37/36 [==============================] - 16s 430ms/step - loss: 0.5247 - acc: 0.8101 - val_loss: 1.4200 - val_acc: 0.5992\n",
            "\n",
            "Epoch 00026: val_loss did not improve from 0.83499\n",
            "Epoch 27/70\n",
            "37/36 [==============================] - 16s 432ms/step - loss: 0.4840 - acc: 0.8146 - val_loss: 0.9237 - val_acc: 0.7031\n",
            "\n",
            "Epoch 00027: val_loss did not improve from 0.83499\n",
            "Epoch 28/70\n",
            "37/36 [==============================] - 16s 430ms/step - loss: 0.4600 - acc: 0.8281 - val_loss: 1.1386 - val_acc: 0.6267\n",
            "\n",
            "Epoch 00028: val_loss did not improve from 0.83499\n",
            "Epoch 29/70\n",
            "37/36 [==============================] - 16s 430ms/step - loss: 0.4662 - acc: 0.8169 - val_loss: 1.1735 - val_acc: 0.6253\n",
            "\n",
            "Epoch 00029: val_loss did not improve from 0.83499\n",
            "Epoch 30/70\n",
            "37/36 [==============================] - 16s 433ms/step - loss: 0.4463 - acc: 0.8357 - val_loss: 1.2716 - val_acc: 0.6493\n",
            "\n",
            "Epoch 00030: val_loss did not improve from 0.83499\n",
            "Epoch 31/70\n",
            "37/36 [==============================] - 16s 429ms/step - loss: 0.4059 - acc: 0.8507 - val_loss: 1.0604 - val_acc: 0.6989\n",
            "\n",
            "Epoch 00031: val_loss did not improve from 0.83499\n",
            "Epoch 32/70\n",
            "37/36 [==============================] - 16s 433ms/step - loss: 0.4288 - acc: 0.8292 - val_loss: 1.1014 - val_acc: 0.6151\n",
            "\n",
            "Epoch 00032: val_loss did not improve from 0.83499\n",
            "Epoch 33/70\n",
            "37/36 [==============================] - 16s 426ms/step - loss: 0.4076 - acc: 0.8485 - val_loss: 1.2656 - val_acc: 0.6264\n",
            "\n",
            "Epoch 00033: val_loss did not improve from 0.83499\n",
            "Epoch 34/70\n",
            "37/36 [==============================] - 16s 430ms/step - loss: 0.3842 - acc: 0.8522 - val_loss: 0.9156 - val_acc: 0.7211\n",
            "\n",
            "Epoch 00034: val_loss did not improve from 0.83499\n",
            "Epoch 35/70\n",
            "37/36 [==============================] - 16s 431ms/step - loss: 0.4016 - acc: 0.8447 - val_loss: 0.9763 - val_acc: 0.6816\n",
            "\n",
            "Epoch 00035: val_loss did not improve from 0.83499\n",
            "Epoch 36/70\n",
            "37/36 [==============================] - 16s 428ms/step - loss: 0.3816 - acc: 0.8579 - val_loss: 1.5320 - val_acc: 0.6030\n",
            "\n",
            "Epoch 00036: val_loss did not improve from 0.83499\n",
            "Epoch 37/70\n",
            "37/36 [==============================] - 16s 432ms/step - loss: 0.3586 - acc: 0.8704 - val_loss: 1.8079 - val_acc: 0.5655\n",
            "\n",
            "Epoch 00037: val_loss did not improve from 0.83499\n",
            "Epoch 38/70\n",
            "37/36 [==============================] - 16s 430ms/step - loss: 0.3281 - acc: 0.8718 - val_loss: 1.2238 - val_acc: 0.6616\n",
            "\n",
            "Epoch 00038: val_loss did not improve from 0.83499\n",
            "Epoch 39/70\n",
            "37/36 [==============================] - 16s 428ms/step - loss: 0.3574 - acc: 0.8665 - val_loss: 1.0091 - val_acc: 0.7122\n",
            "\n",
            "Epoch 00039: val_loss did not improve from 0.83499\n",
            "Epoch 40/70\n",
            "37/36 [==============================] - 16s 429ms/step - loss: 0.3841 - acc: 0.8602 - val_loss: 1.2318 - val_acc: 0.6752\n",
            "\n",
            "Epoch 00040: val_loss did not improve from 0.83499\n",
            "Epoch 41/70\n",
            "37/36 [==============================] - 16s 429ms/step - loss: 0.3199 - acc: 0.8845 - val_loss: 1.1452 - val_acc: 0.6672\n",
            "\n",
            "Epoch 00041: val_loss did not improve from 0.83499\n",
            "Epoch 42/70\n",
            "37/36 [==============================] - 16s 429ms/step - loss: 0.3145 - acc: 0.8768 - val_loss: 1.3483 - val_acc: 0.6538\n",
            "\n",
            "Epoch 00042: val_loss did not improve from 0.83499\n",
            "Epoch 43/70\n",
            "37/36 [==============================] - 16s 430ms/step - loss: 0.3437 - acc: 0.8691 - val_loss: 1.2241 - val_acc: 0.6565\n",
            "\n",
            "Epoch 00043: val_loss did not improve from 0.83499\n",
            "Epoch 44/70\n",
            "37/36 [==============================] - 16s 429ms/step - loss: 0.3326 - acc: 0.8758 - val_loss: 1.2265 - val_acc: 0.6325\n",
            "\n",
            "Epoch 00044: val_loss did not improve from 0.83499\n",
            "Epoch 45/70\n",
            "37/36 [==============================] - 16s 429ms/step - loss: 0.2890 - acc: 0.8868 - val_loss: 1.1796 - val_acc: 0.6938\n",
            "\n",
            "Epoch 00045: val_loss did not improve from 0.83499\n",
            "Epoch 46/70\n",
            "37/36 [==============================] - 16s 424ms/step - loss: 0.2950 - acc: 0.8915 - val_loss: 1.0186 - val_acc: 0.7021\n",
            "\n",
            "Epoch 00046: val_loss did not improve from 0.83499\n",
            "Epoch 47/70\n",
            "37/36 [==============================] - 16s 428ms/step - loss: 0.2778 - acc: 0.8948 - val_loss: 1.2197 - val_acc: 0.6674\n",
            "\n",
            "Epoch 00047: val_loss did not improve from 0.83499\n",
            "Epoch 48/70\n",
            "37/36 [==============================] - 16s 426ms/step - loss: 0.2858 - acc: 0.8956 - val_loss: 1.2377 - val_acc: 0.6616\n",
            "\n",
            "Epoch 00048: val_loss did not improve from 0.83499\n",
            "Epoch 49/70\n",
            "37/36 [==============================] - 16s 431ms/step - loss: 0.2490 - acc: 0.9099 - val_loss: 0.9870 - val_acc: 0.7308\n",
            "\n",
            "Epoch 00049: val_loss did not improve from 0.83499\n",
            "Epoch 50/70\n",
            "37/36 [==============================] - 16s 427ms/step - loss: 0.2559 - acc: 0.9050 - val_loss: 1.5311 - val_acc: 0.6281\n",
            "\n",
            "Epoch 00050: val_loss did not improve from 0.83499\n",
            "Epoch 51/70\n",
            "37/36 [==============================] - 16s 427ms/step - loss: 0.2723 - acc: 0.8915 - val_loss: 1.2219 - val_acc: 0.7011\n",
            "\n",
            "Epoch 00051: val_loss did not improve from 0.83499\n",
            "Epoch 52/70\n",
            "37/36 [==============================] - 16s 427ms/step - loss: 0.2620 - acc: 0.9051 - val_loss: 1.6040 - val_acc: 0.6211\n",
            "\n",
            "Epoch 00052: val_loss did not improve from 0.83499\n",
            "Epoch 53/70\n",
            "37/36 [==============================] - 16s 433ms/step - loss: 0.2383 - acc: 0.9096 - val_loss: 1.0958 - val_acc: 0.7146\n",
            "\n",
            "Epoch 00053: val_loss did not improve from 0.83499\n",
            "Epoch 54/70\n",
            "37/36 [==============================] - 16s 432ms/step - loss: 0.2195 - acc: 0.9223 - val_loss: 1.0101 - val_acc: 0.7356\n",
            "\n",
            "Epoch 00054: val_loss did not improve from 0.83499\n",
            "Epoch 55/70\n",
            "37/36 [==============================] - 16s 428ms/step - loss: 0.2630 - acc: 0.9053 - val_loss: 1.1981 - val_acc: 0.6809\n",
            "\n",
            "Epoch 00055: val_loss did not improve from 0.83499\n",
            "Epoch 56/70\n",
            "37/36 [==============================] - 16s 422ms/step - loss: 0.2441 - acc: 0.9056 - val_loss: 1.3071 - val_acc: 0.6690\n",
            "\n",
            "Epoch 00056: val_loss did not improve from 0.83499\n",
            "Epoch 57/70\n",
            "37/36 [==============================] - 16s 430ms/step - loss: 0.2154 - acc: 0.9189 - val_loss: 1.5602 - val_acc: 0.6377\n",
            "\n",
            "Epoch 00057: val_loss did not improve from 0.83499\n",
            "Epoch 58/70\n",
            "37/36 [==============================] - 16s 430ms/step - loss: 0.2211 - acc: 0.9191 - val_loss: 1.3169 - val_acc: 0.6560\n",
            "\n",
            "Epoch 00058: val_loss did not improve from 0.83499\n",
            "Epoch 59/70\n",
            "37/36 [==============================] - 16s 427ms/step - loss: 0.2147 - acc: 0.9184 - val_loss: 1.4177 - val_acc: 0.6641\n",
            "\n",
            "Epoch 00059: val_loss did not improve from 0.83499\n",
            "Epoch 60/70\n",
            "37/36 [==============================] - 16s 424ms/step - loss: 0.2012 - acc: 0.9345 - val_loss: 1.5925 - val_acc: 0.6218\n",
            "\n",
            "Epoch 00060: val_loss did not improve from 0.83499\n",
            "Epoch 61/70\n",
            "37/36 [==============================] - 16s 428ms/step - loss: 0.1907 - acc: 0.9266 - val_loss: 1.3027 - val_acc: 0.6767\n",
            "\n",
            "Epoch 00061: val_loss did not improve from 0.83499\n",
            "Epoch 62/70\n",
            "37/36 [==============================] - 16s 424ms/step - loss: 0.2119 - acc: 0.9230 - val_loss: 1.5122 - val_acc: 0.6455\n",
            "\n",
            "Epoch 00062: val_loss did not improve from 0.83499\n",
            "Epoch 63/70\n",
            "37/36 [==============================] - 16s 432ms/step - loss: 0.2060 - acc: 0.9219 - val_loss: 1.1623 - val_acc: 0.7035\n",
            "\n",
            "Epoch 00063: val_loss did not improve from 0.83499\n",
            "Epoch 64/70\n",
            "37/36 [==============================] - 16s 419ms/step - loss: 0.1989 - acc: 0.9270 - val_loss: 1.3417 - val_acc: 0.6672\n",
            "\n",
            "Epoch 00064: val_loss did not improve from 0.83499\n",
            "Epoch 65/70\n",
            "37/36 [==============================] - 16s 423ms/step - loss: 0.1804 - acc: 0.9290 - val_loss: 1.2350 - val_acc: 0.6847\n",
            "\n",
            "Epoch 00065: val_loss did not improve from 0.83499\n",
            "Epoch 66/70\n",
            "37/36 [==============================] - 16s 420ms/step - loss: 0.1775 - acc: 0.9283 - val_loss: 1.2599 - val_acc: 0.6907\n",
            "\n",
            "Epoch 00066: val_loss did not improve from 0.83499\n",
            "Epoch 67/70\n",
            "37/36 [==============================] - 16s 426ms/step - loss: 0.1893 - acc: 0.9341 - val_loss: 1.1443 - val_acc: 0.7283\n",
            "\n",
            "Epoch 00067: val_loss did not improve from 0.83499\n",
            "Epoch 68/70\n",
            "37/36 [==============================] - 16s 428ms/step - loss: 0.1721 - acc: 0.9376 - val_loss: 1.3182 - val_acc: 0.6808\n",
            "\n",
            "Epoch 00068: val_loss did not improve from 0.83499\n",
            "Epoch 69/70\n",
            "37/36 [==============================] - 16s 434ms/step - loss: 0.1631 - acc: 0.9440 - val_loss: 1.1264 - val_acc: 0.7104\n",
            "\n",
            "Epoch 00069: val_loss did not improve from 0.83499\n",
            "Epoch 70/70\n",
            "37/36 [==============================] - 16s 421ms/step - loss: 0.1679 - acc: 0.9350 - val_loss: 1.3188 - val_acc: 0.6864\n",
            "\n",
            "Epoch 00070: val_loss did not improve from 0.83499\n",
            "_________________________________________________________________\n",
            "Layer (type)                 Output Shape              Param #   \n",
            "=================================================================\n",
            "conv2d_1 (Conv2D)            (None, 48, 48, 64)        1792      \n",
            "_________________________________________________________________\n",
            "batch_normalization_1 (Batch (None, 48, 48, 64)        256       \n",
            "_________________________________________________________________\n",
            "activation_1 (Activation)    (None, 48, 48, 64)        0         \n",
            "_________________________________________________________________\n",
            "max_pooling2d_1 (MaxPooling2 (None, 24, 24, 64)        0         \n",
            "_________________________________________________________________\n",
            "dropout_1 (Dropout)          (None, 24, 24, 64)        0         \n",
            "_________________________________________________________________\n",
            "conv2d_2 (Conv2D)            (None, 24, 24, 128)       204928    \n",
            "_________________________________________________________________\n",
            "batch_normalization_2 (Batch (None, 24, 24, 128)       512       \n",
            "_________________________________________________________________\n",
            "activation_2 (Activation)    (None, 24, 24, 128)       0         \n",
            "_________________________________________________________________\n",
            "max_pooling2d_2 (MaxPooling2 (None, 12, 12, 128)       0         \n",
            "_________________________________________________________________\n",
            "dropout_2 (Dropout)          (None, 12, 12, 128)       0         \n",
            "_________________________________________________________________\n",
            "conv2d_3 (Conv2D)            (None, 12, 12, 512)       590336    \n",
            "_________________________________________________________________\n",
            "batch_normalization_3 (Batch (None, 12, 12, 512)       2048      \n",
            "_________________________________________________________________\n",
            "activation_3 (Activation)    (None, 12, 12, 512)       0         \n",
            "_________________________________________________________________\n",
            "max_pooling2d_3 (MaxPooling2 (None, 6, 6, 512)         0         \n",
            "_________________________________________________________________\n",
            "dropout_3 (Dropout)          (None, 6, 6, 512)         0         \n",
            "_________________________________________________________________\n",
            "flatten_1 (Flatten)          (None, 18432)             0         \n",
            "_________________________________________________________________\n",
            "dense_1 (Dense)              (None, 256)               4718848   \n",
            "_________________________________________________________________\n",
            "batch_normalization_4 (Batch (None, 256)               1024      \n",
            "_________________________________________________________________\n",
            "activation_4 (Activation)    (None, 256)               0         \n",
            "_________________________________________________________________\n",
            "dropout_4 (Dropout)          (None, 256)               0         \n",
            "_________________________________________________________________\n",
            "dense_2 (Dense)              (None, 512)               131584    \n",
            "_________________________________________________________________\n",
            "batch_normalization_5 (Batch (None, 512)               2048      \n",
            "_________________________________________________________________\n",
            "activation_5 (Activation)    (None, 512)               0         \n",
            "_________________________________________________________________\n",
            "dropout_5 (Dropout)          (None, 512)               0         \n",
            "_________________________________________________________________\n",
            "dense_3 (Dense)              (None, 5)                 2565      \n",
            "=================================================================\n",
            "Total params: 5,655,941\n",
            "Trainable params: 5,652,997\n",
            "Non-trainable params: 2,944\n",
            "_________________________________________________________________\n"
          ],
          "name": "stdout"
        }
      ]
    },
    {
      "cell_type": "code",
      "metadata": {
        "id": "kRvd_6_ndk4h",
        "colab_type": "code",
        "outputId": "54f7949f-9bca-4680-a2ce-336fe8d084b0",
        "colab": {
          "base_uri": "https://localhost:8080/",
          "height": 34
        }
      },
      "source": [
        "#trained model evaluation \n",
        "test1_set = test_datagen.flow_from_directory('TESTING',\n",
        "                                             target_size=(48, 48),\n",
        "                                             batch_size=32,\n",
        "                                             class_mode ='categorical',color_mode='rgb')"
      ],
      "execution_count": 0,
      "outputs": [
        {
          "output_type": "stream",
          "text": [
            "Found 473 images belonging to 5 classes.\n"
          ],
          "name": "stdout"
        }
      ]
    },
    {
      "cell_type": "code",
      "metadata": {
        "id": "4XhhmybEeQFo",
        "colab_type": "code",
        "outputId": "022a35e2-d973-4a2d-ddee-fb65626fe885",
        "colab": {
          "base_uri": "https://localhost:8080/",
          "height": 34
        }
      },
      "source": [
        "model.evaluate_generator(generator=test1_set,steps=32)"
      ],
      "execution_count": 0,
      "outputs": [
        {
          "output_type": "execute_result",
          "data": {
            "text/plain": [
              "[1.1177664948498258, 0.7257425749655997]"
            ]
          },
          "metadata": {
            "tags": []
          },
          "execution_count": 20
        }
      ]
    },
    {
      "cell_type": "code",
      "metadata": {
        "id": "v4EiPzeDeSfx",
        "colab_type": "code",
        "outputId": "4791beca-962b-4453-9bf6-903b9cac7b55",
        "colab": {
          "base_uri": "https://localhost:8080/",
          "height": 34
        }
      },
      "source": [
        "generator = test_datagen.flow_from_directory(\n",
        "        'TESTING',\n",
        "        target_size=(48, 48),\n",
        "        batch_size=1,\n",
        "        class_mode=None,  # only data, no labels\n",
        "        shuffle=False,color_mode='rgb')  # keep data in same order as labels\n",
        "\n",
        "probabilities = model.predict_generator(generator, 473)"
      ],
      "execution_count": 0,
      "outputs": [
        {
          "output_type": "stream",
          "text": [
            "Found 473 images belonging to 5 classes.\n"
          ],
          "name": "stdout"
        }
      ]
    },
    {
      "cell_type": "code",
      "metadata": {
        "id": "dXLcEdrgeVGI",
        "colab_type": "code",
        "outputId": "50dc0de8-7cae-429c-cdf0-1346b85a9a65",
        "colab": {
          "base_uri": "https://localhost:8080/",
          "height": 238
        }
      },
      "source": [
        "probabilities"
      ],
      "execution_count": 0,
      "outputs": [
        {
          "output_type": "execute_result",
          "data": {
            "text/plain": [
              "array([[2.92563736e-02, 2.03005075e-01, 1.11590505e-01, 3.28034163e-04,\n",
              "        1.62736289e-02],\n",
              "       [1.14202499e-04, 6.05583191e-05, 9.13884521e-01, 2.08616257e-07,\n",
              "        3.31308553e-03],\n",
              "       [9.73218441e-01, 0.00000000e+00, 1.40070915e-06, 4.47034836e-07,\n",
              "        1.08030304e-06],\n",
              "       ...,\n",
              "       [7.87377357e-05, 2.32738256e-03, 9.01190639e-02, 1.96993351e-05,\n",
              "        7.76761174e-01],\n",
              "       [3.33786011e-05, 0.00000000e+00, 5.15580177e-06, 2.98023224e-08,\n",
              "        9.99661684e-01],\n",
              "       [2.68220901e-07, 4.79519367e-05, 3.25143337e-05, 2.85327435e-04,\n",
              "        9.41879034e-01]], dtype=float32)"
            ]
          },
          "metadata": {
            "tags": []
          },
          "execution_count": 22
        }
      ]
    },
    {
      "cell_type": "code",
      "metadata": {
        "id": "ol3N4Omvp1kw",
        "colab_type": "code",
        "outputId": "d59ef10d-d9b2-405a-b4c3-5fd3e0ab4880",
        "colab": {
          "base_uri": "https://localhost:8080/",
          "height": 34
        }
      },
      "source": [
        "pba = [i * 10 for i in probabilities]\n",
        "type(pba)"
      ],
      "execution_count": 0,
      "outputs": [
        {
          "output_type": "execute_result",
          "data": {
            "text/plain": [
              "list"
            ]
          },
          "metadata": {
            "tags": []
          },
          "execution_count": 23
        }
      ]
    },
    {
      "cell_type": "code",
      "metadata": {
        "id": "wtu6m-F2p-s-",
        "colab_type": "code",
        "outputId": "0ea5063f-9ec4-487b-c12f-30733be2e003",
        "colab": {
          "base_uri": "https://localhost:8080/",
          "height": 34
        }
      },
      "source": [
        "import numpy as np\n",
        "pp = np.asarray(pba)\n",
        "type(pp)"
      ],
      "execution_count": 0,
      "outputs": [
        {
          "output_type": "execute_result",
          "data": {
            "text/plain": [
              "numpy.ndarray"
            ]
          },
          "metadata": {
            "tags": []
          },
          "execution_count": 24
        }
      ]
    },
    {
      "cell_type": "code",
      "metadata": {
        "id": "JIzHi5TqqBYL",
        "colab_type": "code",
        "outputId": "196b41d6-0221-42ba-f99b-292019781597",
        "colab": {
          "base_uri": "https://localhost:8080/",
          "height": 34
        }
      },
      "source": [
        "po = pp.astype(int)\n",
        "type(po)"
      ],
      "execution_count": 0,
      "outputs": [
        {
          "output_type": "execute_result",
          "data": {
            "text/plain": [
              "numpy.ndarray"
            ]
          },
          "metadata": {
            "tags": []
          },
          "execution_count": 25
        }
      ]
    },
    {
      "cell_type": "code",
      "metadata": {
        "id": "samYKJabqTzj",
        "colab_type": "code",
        "colab": {}
      },
      "source": [
        "# Funtions to print confusion matrix\n",
        "from sklearn import metrics\n",
        "from sklearn.metrics import accuracy_score,f1_score\n",
        "import matplotlib.pyplot as plt\n",
        "import seaborn as sb\n",
        "import pandas as pd\n",
        "\n",
        "def confusion_plot_desc(cm):\n",
        "    labels = ['Daisy','Dandelion','Rose','Sunflower','Tulip']\n",
        "    df_cm = pd.DataFrame(cm,index=[i for i in labels],columns = [i for i in labels])\n",
        "    plt.figure(figsize=(10,10))\n",
        "    #sb.set(font_scale=1.5)\n",
        "    ax = plt.subplot()\n",
        "    sb.heatmap(df_cm, annot=True, ax=ax, annot_kws={\"size\" :16}, cmap=\"Greens\"); #annot=True to annotate cells\n",
        "    \n",
        "    # labels, title and ticks\n",
        "    ax.set_xlabel('Predicted labels');ax.set_ylabel('True labels') \n",
        "    ax.set_title('Confusion Matrix')\n",
        "    #ax.xaxis.set_ticklabels(labels); ax.yaxis.set_ticklabels(labels)\n",
        "   \n",
        "    \n",
        "# function to print Description report\n",
        "def print_Desc_report(y_true, y_pred):\n",
        "    print('Testing Accuracy Of Description: {}'.format(accuracy_score(y_true, y_pred)))\n",
        "    print('Testing F1 score Of Description: {}'.format(f1_score(y_true, y_pred, average='weighted')))\n",
        "    print(metrics.classification_report(y_true, y_pred))\n",
        "    cm = confusion_matrix(y_true, y_pred)\n",
        "    confusion_plot_desc(cm)\n",
        "    print()\n",
        "\n",
        "    \n"
      ],
      "execution_count": 0,
      "outputs": []
    },
    {
      "cell_type": "code",
      "metadata": {
        "id": "QyjrGpvPqo-n",
        "colab_type": "code",
        "colab": {}
      },
      "source": [
        "import numpy as np\n",
        "from sklearn.metrics import confusion_matrix\n",
        "\n",
        "y_true = np.array([0] * 88 + [1] * 110 + [2] * 88 + [3] * 77 + [4] * 110)\n",
        "y = [0,1,2,3,4]\n",
        "y_pred =  po.argmax(axis = 1)\n",
        "#print(y_pred)\n",
        "#for i in range(0,len(y_pred)):\n",
        " # if(y_pred[i] > 0.5):\n",
        "  #   y_pred[i] = 1\n",
        "#print(y_pred)\n",
        "cm = confusion_matrix(y_true, y_pred)\n",
        "#print(cm)"
      ],
      "execution_count": 0,
      "outputs": []
    },
    {
      "cell_type": "code",
      "metadata": {
        "id": "xS6MEa0oBqZ2",
        "colab_type": "code",
        "outputId": "9b988061-f20f-4596-a38d-0ca611542d4b",
        "colab": {
          "base_uri": "https://localhost:8080/",
          "height": 876
        }
      },
      "source": [
        "print_Desc_report(y_true, y_pred)"
      ],
      "execution_count": 0,
      "outputs": [
        {
          "output_type": "stream",
          "text": [
            "Testing Accuracy Of Description: 0.7061310782241015\n",
            "Testing F1 score Of Description: 0.7055202397090501\n",
            "              precision    recall  f1-score   support\n",
            "\n",
            "           0       0.53      0.91      0.67        88\n",
            "           1       0.92      0.51      0.65       110\n",
            "           2       0.67      0.77      0.72        88\n",
            "           3       0.82      0.83      0.83        77\n",
            "           4       0.82      0.60      0.69       110\n",
            "\n",
            "    accuracy                           0.71       473\n",
            "   macro avg       0.75      0.72      0.71       473\n",
            "weighted avg       0.76      0.71      0.71       473\n",
            "\n",
            "\n"
          ],
          "name": "stdout"
        },
        {
          "output_type": "display_data",
          "data": {
            "image/png": "[encoded data removed]",
            "text/plain": [
              "<Figure size 720x720 with 2 Axes>"
            ]
          },
          "metadata": {
            "tags": []
          }
        }
      ]
    }
  ]
}