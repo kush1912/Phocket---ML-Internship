{
  "nbformat": 4,
  "nbformat_minor": 0,
  "metadata": {
    "colab": {
      "name": "Health Data.ipynb",
      "version": "0.3.2",
      "provenance": []
    },
    "kernelspec": {
      "name": "python3",
      "display_name": "Python 3"
    },
    "accelerator": "GPU"
  },
  "cells": [
    {
      "cell_type": "code",
      "metadata": {
        "id": "6EryTtiNpHVk",
        "colab_type": "code",
        "colab": {}
      },
      "source": [
        "import pandas as pd\n",
        "import numpy as np"
      ],
      "execution_count": 0,
      "outputs": []
    },
    {
      "cell_type": "code",
      "metadata": {
        "id": "ZB9LTpEPrBPr",
        "colab_type": "code",
        "colab": {}
      },
      "source": [
        "from sklearn.preprocessing import LabelEncoder, StandardScaler, Imputer\n",
        "from sklearn.decomposition import PCA\n",
        "from sklearn.model_selection import train_test_split\n",
        "  \n",
        "from sklearn.neural_network import MLPClassifier\n",
        "from sklearn.neighbors import KNeighborsClassifier\n",
        "from sklearn.svm import SVC\n",
        "from sklearn.gaussian_process import GaussianProcessClassifier\n",
        "from sklearn.gaussian_process.kernels import RBF\n",
        "from sklearn.tree import DecisionTreeClassifier\n",
        "from sklearn.ensemble import RandomForestClassifier, AdaBoostClassifier\n",
        "from sklearn.naive_bayes import GaussianNB\n",
        "from sklearn.discriminant_analysis import QuadraticDiscriminantAnalysis\n",
        "from sklearn.ensemble import ExtraTreesClassifier\n",
        "from sklearn.model_selection import train_test_split"
      ],
      "execution_count": 0,
      "outputs": []
    },
    {
      "cell_type": "code",
      "metadata": {
        "id": "tFL56OcTpPbH",
        "colab_type": "code",
        "outputId": "568395a8-9405-420e-c591-da4d5f30ca56",
        "colab": {
          "base_uri": "https://localhost:8080/",
          "height": 204
        }
      },
      "source": [
        "df = pd.read_csv('health_data.csv')\n",
        "df.head()"
      ],
      "execution_count": 0,
      "outputs": [
        {
          "output_type": "execute_result",
          "data": {
            "text/html": [
              "<div>\n",
              "<style scoped>\n",
              "    .dataframe tbody tr th:only-of-type {\n",
              "        vertical-align: middle;\n",
              "    }\n",
              "\n",
              "    .dataframe tbody tr th {\n",
              "        vertical-align: top;\n",
              "    }\n",
              "\n",
              "    .dataframe thead th {\n",
              "        text-align: right;\n",
              "    }\n",
              "</style>\n",
              "<table border=\"1\" class=\"dataframe\">\n",
              "  <thead>\n",
              "    <tr style=\"text-align: right;\">\n",
              "      <th></th>\n",
              "      <th>income</th>\n",
              "      <th>maternal</th>\n",
              "      <th>fam-history</th>\n",
              "      <th>mat-illness-past</th>\n",
              "      <th>suppl</th>\n",
              "      <th>mat-illness</th>\n",
              "      <th>meds</th>\n",
              "      <th>env</th>\n",
              "      <th>lifestyle</th>\n",
              "      <th>target</th>\n",
              "    </tr>\n",
              "  </thead>\n",
              "  <tbody>\n",
              "    <tr>\n",
              "      <th>0</th>\n",
              "      <td>4</td>\n",
              "      <td>0</td>\n",
              "      <td>0</td>\n",
              "      <td>0</td>\n",
              "      <td>4</td>\n",
              "      <td>1</td>\n",
              "      <td>0</td>\n",
              "      <td>0</td>\n",
              "      <td>2</td>\n",
              "      <td>0</td>\n",
              "    </tr>\n",
              "    <tr>\n",
              "      <th>1</th>\n",
              "      <td>2</td>\n",
              "      <td>0</td>\n",
              "      <td>0</td>\n",
              "      <td>0</td>\n",
              "      <td>2</td>\n",
              "      <td>2</td>\n",
              "      <td>3</td>\n",
              "      <td>3</td>\n",
              "      <td>3</td>\n",
              "      <td>0</td>\n",
              "    </tr>\n",
              "    <tr>\n",
              "      <th>2</th>\n",
              "      <td>3</td>\n",
              "      <td>1</td>\n",
              "      <td>0</td>\n",
              "      <td>0</td>\n",
              "      <td>5</td>\n",
              "      <td>0</td>\n",
              "      <td>0</td>\n",
              "      <td>0</td>\n",
              "      <td>2</td>\n",
              "      <td>0</td>\n",
              "    </tr>\n",
              "    <tr>\n",
              "      <th>3</th>\n",
              "      <td>4</td>\n",
              "      <td>1</td>\n",
              "      <td>0</td>\n",
              "      <td>#NULL!</td>\n",
              "      <td>3</td>\n",
              "      <td>0</td>\n",
              "      <td>1</td>\n",
              "      <td>1</td>\n",
              "      <td>2</td>\n",
              "      <td>0</td>\n",
              "    </tr>\n",
              "    <tr>\n",
              "      <th>4</th>\n",
              "      <td>2</td>\n",
              "      <td>0</td>\n",
              "      <td>0</td>\n",
              "      <td>0</td>\n",
              "      <td>1</td>\n",
              "      <td>0</td>\n",
              "      <td>0</td>\n",
              "      <td>0</td>\n",
              "      <td>0</td>\n",
              "      <td>0</td>\n",
              "    </tr>\n",
              "  </tbody>\n",
              "</table>\n",
              "</div>"
            ],
            "text/plain": [
              "  income maternal fam-history mat-illness-past  ... meds env lifestyle target\n",
              "0      4        0           0                0  ...    0   0         2      0\n",
              "1      2        0           0                0  ...    3   3         3      0\n",
              "2      3        1           0                0  ...    0   0         2      0\n",
              "3      4        1           0           #NULL!  ...    1   1         2      0\n",
              "4      2        0           0                0  ...    0   0         0      0\n",
              "\n",
              "[5 rows x 10 columns]"
            ]
          },
          "metadata": {
            "tags": []
          },
          "execution_count": 3
        }
      ]
    },
    {
      "cell_type": "code",
      "metadata": {
        "id": "j9zIJbSjIRE9",
        "colab_type": "code",
        "outputId": "51067ee9-36cd-4489-812b-0c43e372e79f",
        "colab": {
          "base_uri": "https://localhost:8080/",
          "height": 204
        }
      },
      "source": [
        "df.replace(to_replace = '#NULL!', value = '0', inplace = True)\n",
        "df.head()"
      ],
      "execution_count": 0,
      "outputs": [
        {
          "output_type": "execute_result",
          "data": {
            "text/html": [
              "<div>\n",
              "<style scoped>\n",
              "    .dataframe tbody tr th:only-of-type {\n",
              "        vertical-align: middle;\n",
              "    }\n",
              "\n",
              "    .dataframe tbody tr th {\n",
              "        vertical-align: top;\n",
              "    }\n",
              "\n",
              "    .dataframe thead th {\n",
              "        text-align: right;\n",
              "    }\n",
              "</style>\n",
              "<table border=\"1\" class=\"dataframe\">\n",
              "  <thead>\n",
              "    <tr style=\"text-align: right;\">\n",
              "      <th></th>\n",
              "      <th>income</th>\n",
              "      <th>maternal</th>\n",
              "      <th>fam-history</th>\n",
              "      <th>mat-illness-past</th>\n",
              "      <th>suppl</th>\n",
              "      <th>mat-illness</th>\n",
              "      <th>meds</th>\n",
              "      <th>env</th>\n",
              "      <th>lifestyle</th>\n",
              "      <th>target</th>\n",
              "    </tr>\n",
              "  </thead>\n",
              "  <tbody>\n",
              "    <tr>\n",
              "      <th>0</th>\n",
              "      <td>4</td>\n",
              "      <td>0</td>\n",
              "      <td>0</td>\n",
              "      <td>0</td>\n",
              "      <td>4</td>\n",
              "      <td>1</td>\n",
              "      <td>0</td>\n",
              "      <td>0</td>\n",
              "      <td>2</td>\n",
              "      <td>0</td>\n",
              "    </tr>\n",
              "    <tr>\n",
              "      <th>1</th>\n",
              "      <td>2</td>\n",
              "      <td>0</td>\n",
              "      <td>0</td>\n",
              "      <td>0</td>\n",
              "      <td>2</td>\n",
              "      <td>2</td>\n",
              "      <td>3</td>\n",
              "      <td>3</td>\n",
              "      <td>3</td>\n",
              "      <td>0</td>\n",
              "    </tr>\n",
              "    <tr>\n",
              "      <th>2</th>\n",
              "      <td>3</td>\n",
              "      <td>1</td>\n",
              "      <td>0</td>\n",
              "      <td>0</td>\n",
              "      <td>5</td>\n",
              "      <td>0</td>\n",
              "      <td>0</td>\n",
              "      <td>0</td>\n",
              "      <td>2</td>\n",
              "      <td>0</td>\n",
              "    </tr>\n",
              "    <tr>\n",
              "      <th>3</th>\n",
              "      <td>4</td>\n",
              "      <td>1</td>\n",
              "      <td>0</td>\n",
              "      <td>0</td>\n",
              "      <td>3</td>\n",
              "      <td>0</td>\n",
              "      <td>1</td>\n",
              "      <td>1</td>\n",
              "      <td>2</td>\n",
              "      <td>0</td>\n",
              "    </tr>\n",
              "    <tr>\n",
              "      <th>4</th>\n",
              "      <td>2</td>\n",
              "      <td>0</td>\n",
              "      <td>0</td>\n",
              "      <td>0</td>\n",
              "      <td>1</td>\n",
              "      <td>0</td>\n",
              "      <td>0</td>\n",
              "      <td>0</td>\n",
              "      <td>0</td>\n",
              "      <td>0</td>\n",
              "    </tr>\n",
              "  </tbody>\n",
              "</table>\n",
              "</div>"
            ],
            "text/plain": [
              "  income maternal fam-history mat-illness-past  ... meds env lifestyle target\n",
              "0      4        0           0                0  ...    0   0         2      0\n",
              "1      2        0           0                0  ...    3   3         3      0\n",
              "2      3        1           0                0  ...    0   0         2      0\n",
              "3      4        1           0                0  ...    1   1         2      0\n",
              "4      2        0           0                0  ...    0   0         0      0\n",
              "\n",
              "[5 rows x 10 columns]"
            ]
          },
          "metadata": {
            "tags": []
          },
          "execution_count": 4
        }
      ]
    },
    {
      "cell_type": "code",
      "metadata": {
        "id": "h77sNSZJ7ewA",
        "colab_type": "code",
        "outputId": "d1ab3170-386f-467d-ad08-2e8bf6a096e2",
        "colab": {
          "base_uri": "https://localhost:8080/",
          "height": 403
        }
      },
      "source": [
        "import matplotlib.pyplot as plt\n",
        "fig = plt.figure(figsize=(6,6))\n",
        "df.target.value_counts().plot(kind='bar')\n",
        "plt.title(\"Distribution of data,(0, 1)\")"
      ],
      "execution_count": 0,
      "outputs": [
        {
          "output_type": "execute_result",
          "data": {
            "text/plain": [
              "Text(0.5, 1.0, 'Distribution of data,(0, 1)')"
            ]
          },
          "metadata": {
            "tags": []
          },
          "execution_count": 7
        },
        {
          "output_type": "display_data",
          "data": {
            "image/png": "[encoded data removed]",
            "text/plain": [
              "<Figure size 432x432 with 1 Axes>"
            ]
          },
          "metadata": {
            "tags": []
          }
        }
      ]
    },
    {
      "cell_type": "code",
      "metadata": {
        "id": "EghFGrNn7qvg",
        "colab_type": "code",
        "outputId": "6614b914-5715-4492-aca6-46eac89fa684",
        "colab": {
          "base_uri": "https://localhost:8080/",
          "height": 85
        }
      },
      "source": [
        "df.groupby('target').size()"
      ],
      "execution_count": 0,
      "outputs": [
        {
          "output_type": "execute_result",
          "data": {
            "text/plain": [
              "target\n",
              "0    32611\n",
              "1       59\n",
              "dtype: int64"
            ]
          },
          "metadata": {
            "tags": []
          },
          "execution_count": 8
        }
      ]
    },
    {
      "cell_type": "code",
      "metadata": {
        "id": "-Vo4qbar7ww0",
        "colab_type": "code",
        "outputId": "c4c1e449-fa6d-4c58-9b96-6eb0d0e0fdc4",
        "colab": {
          "base_uri": "https://localhost:8080/",
          "height": 34
        }
      },
      "source": [
        "df.target.unique()\n",
        "print(df.shape)"
      ],
      "execution_count": 0,
      "outputs": [
        {
          "output_type": "stream",
          "text": [
            "(32670, 10)\n"
          ],
          "name": "stdout"
        }
      ]
    },
    {
      "cell_type": "code",
      "metadata": {
        "id": "IS011OLa1YqF",
        "colab_type": "code",
        "colab": {}
      },
      "source": [
        "x=df.iloc[:,0:9]\n",
        "y=df['target']"
      ],
      "execution_count": 0,
      "outputs": []
    },
    {
      "cell_type": "code",
      "metadata": {
        "id": "b0m5lHsYCdVv",
        "colab_type": "code",
        "colab": {}
      },
      "source": [
        "classifiers = [\n",
        "    KNeighborsClassifier(3),\n",
        "    SVC(kernel=\"linear\", C=0.025),\n",
        "    SVC(gamma=2, C=1),\n",
        "    GaussianProcessClassifier(1.0 * RBF(1.0)),\n",
        "    DecisionTreeClassifier(max_depth=5),\n",
        "    RandomForestClassifier(max_depth=5, n_estimators=10, max_features=1),\n",
        "    MLPClassifier(alpha=1),\n",
        "    AdaBoostClassifier(),\n",
        "    GaussianNB(),\n",
        "    QuadraticDiscriminantAnalysis()\n",
        "]\n"
      ],
      "execution_count": 0,
      "outputs": []
    },
    {
      "cell_type": "code",
      "metadata": {
        "id": "WHKfraC6RsYe",
        "colab_type": "code",
        "colab": {}
      },
      "source": [
        "from sklearn.svm import LinearSVC\n",
        "from sklearn import svm\n",
        "d = {}\n",
        "def model_selection(x_train, y_train, x_test, y_test):\n",
        "  \n",
        "\n",
        "  # KNN \n",
        "  knn = KNeighborsClassifier(n_neighbors = 3)\n",
        "  knn.fit(x_train, y_train)\n",
        "  #print(\"KNN : %f\" % knn.score(x_test, y_test))\n",
        "  d.update(KNN = knn.score(x_test,y_test))\n",
        "  \n",
        "  #SVM\n",
        "  svc = svm.SVC(kernel='linear', C=0.0025).fit(x_train, y_train)\n",
        "  #print(\"SVC Linear : %f\" % svc.score(x_test, y_test))\n",
        "  d.update(svc_linear=svc.score(x_test,y_test))\n",
        "  \n",
        "  #Decision Tree\n",
        "  dtc = DecisionTreeClassifier(max_depth=5)\n",
        "  dtc.fit(x_train,y_train)\n",
        "  #print(\"DecisionTreeClassifier : %f\" % dtc.score(x_test, y_test))\n",
        "  d.update( DecisionTreeClassifier= dtc.score(x_test,y_test))\n",
        "  \n",
        "  #SVM gamma\n",
        "  sv = SVC(gamma=2, C=1.0).fit(x_train, y_train)\n",
        "  sv.fit(x_train,y_train)\n",
        "  #print(\"SVC Gamma : %f\" % sv.score(x_test, y_test))\n",
        "  d.update(svc_Gamma =sv.score(x_test,y_test))\n",
        " \n",
        "  #Gaussian\n",
        "  model = GaussianNB()\n",
        "  model.fit(x_train, y_train)\n",
        "  #print(\"GAussian : %f\" % model.score(x_test, y_test))\n",
        "  d.update(Gaussian = model.score(x_test,y_test))\n",
        "  \n",
        "  #Random Forrest Classifier\n",
        "  rc = RandomForestClassifier(max_depth = 5, n_estimators=100, n_jobs=3, max_features = 1)\n",
        "  rc.fit(x_train, y_train)\n",
        "  #print(\"Random : %f\" % rc.score(x_test, y_test))\n",
        "  d.update(Random = rc.score(x_test,y_test))\n",
        "  \n",
        "  return d"
      ],
      "execution_count": 0,
      "outputs": []
    },
    {
      "cell_type": "code",
      "metadata": {
        "id": "0NaAc43HBm0Y",
        "colab_type": "code",
        "colab": {}
      },
      "source": [
        "from sklearn.svm import LinearSVC\n",
        "from sklearn import svm\n",
        "from sklearn.preprocessing import LabelEncoder, StandardScaler, Imputer\n",
        "from sklearn.decomposition import PCA\n",
        "from sklearn.model_selection import train_test_split\n",
        "  \n",
        "from sklearn.neural_network import MLPClassifier\n",
        "from sklearn.neighbors import KNeighborsClassifier\n",
        "from sklearn.svm import SVC\n",
        "from sklearn.gaussian_process import GaussianProcessClassifier\n",
        "from sklearn.gaussian_process.kernels import RBF\n",
        "from sklearn.tree import DecisionTreeClassifier\n",
        "from sklearn.ensemble import RandomForestClassifier, AdaBoostClassifier\n",
        "from sklearn.naive_bayes import GaussianNB\n",
        "from sklearn.discriminant_analysis import QuadraticDiscriminantAnalysis\n",
        "from sklearn.ensemble import ExtraTreesClassifier\n",
        "from sklearn.model_selection import train_test_split\n",
        "\n",
        "d = {}\n",
        "\n",
        "def Knn(x_train, y_train, x_test, y_test):\n",
        "  # KNN \n",
        "  knn = KNeighborsClassifier(n_neighbors = 3)\n",
        "  knn.fit(x_train, y_train)\n",
        "  #print(\"KNN : %f\" % knn.score(x_test, y_test))\n",
        "  d.update(KNN = knn.score(x_test,y_test))\n",
        "\n",
        "def svm(x_train, y_train, x_test, y_test):\n",
        "  #SVM\n",
        "  svc = svm.SVC(kernel='linear', C=0.0025).fit(x_train, y_train)\n",
        "  #print(\"SVC Linear : %f\" % svc.score(x_test, y_test))\n",
        "  d.update(svc_linear=svc.score(x_test,y_test))\n",
        "  \n",
        "\n",
        "def dtc(x_train, y_train, x_test, y_test):\n",
        "  #Decision Tree\n",
        "  dtc = DecisionTreeClassifier(max_depth=5)\n",
        "  dtc.fit(x_train,y_train)\n",
        "  #print(\"DecisionTreeClassifier : %f\" % dtc.score(x_test, y_test))\n",
        "  d.update( DecisionTreeClassifier= dtc.score(x_test,y_test))\n",
        "\n",
        "def gnb(x_train, y_train, x_test, y_test):\n",
        "  #Gaussian\n",
        "  model = GaussianNB()\n",
        "  model.fit(x_train, y_train)\n",
        "  #print(\"GAussian : %f\" % model.score(x_test, y_test))\n",
        "  d.update(Gaussian = model.score(x_test,y_test))\n",
        "\n",
        "def rfc(x_train, y_train, x_test, y_test):\n",
        "  #Random Forrest Classifier\n",
        "  rc = RandomForestClassifier(max_depth = 5, n_estimators=100, n_jobs=3, max_features = 1)\n",
        "  rc.fit(x_train, y_train)\n",
        "  #print(\"Random : %f\" % rc.score(x_test, y_test))\n",
        "  d.update(Random = rc.score(x_test,y_test))\n",
        "\n",
        "def svg(x_train, y_train, x_test, y_test):\n",
        "  #SVM gamma\n",
        "  sv = svm.SVC(gamma=2, C=1.0).fit(x_train, y_train)\n",
        "  #print(\"SVC Gamma : %f\" % sv.score(x_test, y_test))\n",
        "  d.update(svc_Gamma =dt.score(x_test,y_test))\n",
        "\n",
        "def gpc(x_train, y_train, x_test, y_test):\n",
        "  #Gaussian Process Classifier\n",
        "  gpc = GaussianProcessClassifier(1.0 * RBF(1.0))\n",
        "  gpc.fit(x_train, y_train)\n",
        "  #print(\"Gaussian Process Classifier : %f\" % gpc.score(x_test, y_test))\n",
        "\n",
        "\n",
        "def model_selection(x_train, y_train, x_test, y_test):\n",
        "  \n",
        "  \n",
        "  Knn(x_train, y_train, x_test, y_test)\n",
        "  svm(x_train, y_train, x_test, y_test)\n",
        "  dtc(x_train, y_train, x_test, y_test)\n",
        "  gnb(x_train, y_train, x_test, y_test)\n",
        "  rfc(x_train, y_train, x_test, y_test)\n",
        "  gpc(x_train, y_train, x_test, y_test)\n",
        "  svg(x_train, y_train, x_test, y_test)\n",
        "    \n",
        "  return d"
      ],
      "execution_count": 0,
      "outputs": []
    },
    {
      "cell_type": "code",
      "metadata": {
        "id": "pYiTDxsqSsgF",
        "colab_type": "code",
        "outputId": "02876229-db31-4718-8334-3dae98f340b5",
        "colab": {
          "base_uri": "https://localhost:8080/",
          "height": 156
        }
      },
      "source": [
        "x_train, x_test, y_train, y_test = train_test_split(x, y, random_state=1, test_size = 0.20)\n",
        "d = model_selection(x_train, y_train, x_test, y_test)\n",
        "d = sorted(d.items(), key=lambda x: x[1], reverse=True)\n",
        "\n",
        "for i in d:\n",
        "  print(i)  \n",
        "  "
      ],
      "execution_count": 0,
      "outputs": [
        {
          "output_type": "stream",
          "text": [
            "('KNN', 0.9981634527089073)\n",
            "('svc_linear', 0.9981634527089073)\n",
            "('svc_Gamma', 0.9981634527089073)\n",
            "('Random', 0.9981634527089073)\n",
            "('DecisionTreeClassifier', 0.9978573614937252)\n",
            "('Gaussian', 0.9742883379247016)\n"
          ],
          "name": "stdout"
        },
        {
          "output_type": "execute_result",
          "data": {
            "text/plain": [
              "'\\nerror=[]\\nfor i in range(1, 50):\\n    knn=KNeighborsClassifier(n_neighbors=i)\\n    knn.fit(x_train,y_train)\\n    pred_i=knn.predict(x_test)\\n    pred_i=pred_i.reshape(50,1)\\n    error.append(np.mean(pred_i != y_test))\\n\\na=[]\\nfor i in range(1,50):\\n    a.append(i)\\nplt.plot(a,error)\\n\\n'"
            ]
          },
          "metadata": {
            "tags": []
          },
          "execution_count": 106
        }
      ]
    },
    {
      "cell_type": "code",
      "metadata": {
        "id": "VQHQNgRCMVcg",
        "colab_type": "code",
        "outputId": "d8d5084a-7f79-45a5-a5a9-d5a38a497f46",
        "colab": {
          "base_uri": "https://localhost:8080/",
          "height": 295
        }
      },
      "source": [
        "from matplotlib import cm\n",
        "import matplotlib.pyplot as plt\n",
        "from sklearn.metrics import roc_curve, auc\n",
        "knn = KNeighborsClassifier(n_neighbors = 3)\n",
        "knn.fit(x_train,y_train)\n",
        "\n",
        "y_scores = knn.predict_proba(x_test)\n",
        "fpr, tpr, threshold = roc_curve(y_test, y_scores[:, 1])\n",
        "roc_auc = auc(fpr, tpr)\n",
        "\n",
        "plt.title('Receiver Operating Characteristic')\n",
        "plt.plot(fpr, tpr, 'b', label = 'AUC = %0.2f' % roc_auc)\n",
        "plt.legend(loc = 'lower right')\n",
        "plt.plot([0, 1], [0, 1],'r--')\n",
        "plt.xlim([0, 1])\n",
        "plt.ylim([0, 1])\n",
        "plt.ylabel('True Positive Rate')\n",
        "plt.xlabel('False Positive Rate')\n",
        "plt.title('ROC Curve of kNN')\n",
        "plt.show()"
      ],
      "execution_count": 0,
      "outputs": [
        {
          "output_type": "display_data",
          "data": {
            "image/png": "[encoded data removed]",
            "text/plain": [
              "<Figure size 432x288 with 1 Axes>"
            ]
          },
          "metadata": {
            "tags": []
          }
        }
      ]
    },
    {
      "cell_type": "code",
      "metadata": {
        "id": "oif_O1rbMXya",
        "colab_type": "code",
        "outputId": "9734aa46-2484-4d16-a9f3-4a2d02156973",
        "colab": {
          "base_uri": "https://localhost:8080/",
          "height": 295
        }
      },
      "source": [
        "from matplotlib import cm\n",
        "import matplotlib.pyplot as plt\n",
        "from sklearn.metrics import roc_curve, auc\n",
        "\n",
        "\n",
        "svc = SVC(kernel='linear', C=0.0025, probability = True).fit(x_train, y_train)\n",
        "y_scores = svc.predict_proba(x_test)\n",
        "fpr, tpr, threshold = roc_curve(y_test, y_scores[:, 1])\n",
        "roc_auc = auc(fpr, tpr)\n",
        "\n",
        "plt.title('Receiver Operating Characteristic')\n",
        "plt.plot(fpr, tpr, 'b', label = 'AUC = %0.2f' % roc_auc)\n",
        "plt.legend(loc = 'lower right')\n",
        "plt.plot([0, 1], [0, 1],'r--')\n",
        "plt.xlim([0, 1])\n",
        "plt.ylim([0, 1])\n",
        "plt.ylabel('True Positive Rate')\n",
        "plt.xlabel('False Positive Rate')\n",
        "plt.title('ROC Curve of SVM-Linear')\n",
        "plt.show()"
      ],
      "execution_count": 0,
      "outputs": [
        {
          "output_type": "display_data",
          "data": {
            "image/png": "[encoded data removed]",
            "text/plain": [
              "<Figure size 432x288 with 1 Axes>"
            ]
          },
          "metadata": {
            "tags": []
          }
        }
      ]
    },
    {
      "cell_type": "code",
      "metadata": {
        "id": "EJF8TV-r9XNb",
        "colab_type": "code",
        "outputId": "8208ac7a-486a-42ee-f6b6-faa9d05b67a2",
        "colab": {
          "base_uri": "https://localhost:8080/",
          "height": 390
        }
      },
      "source": [
        "from matplotlib import cm\n",
        "import matplotlib.pyplot as plt\n",
        "from sklearn.metrics import roc_curve, auc\n",
        "\n",
        "plt.figure()\n",
        "plt.xlim([-0.01, 1.00])\n",
        "plt.ylim([-0.01, 1.01])\n",
        "\n",
        "svm = SVC(gamma=2.0, C=1).fit(x_train, y_train)\n",
        "y_score_svm = svm.decision_function(x_test)\n",
        "fpr_svm, tpr_svm, _ = roc_curve(y_test, y_score_svm)\n",
        "roc_auc_svm = auc(fpr_svm, tpr_svm)\n",
        "accuracy_svm = svm.score(x_test, y_test)\n",
        "print(\"gamma = {:.2f}  accuracy = {:.2f}   AUC = {:.2f}\".format(g, accuracy_svm, roc_auc_svm))\n",
        "plt.plot(fpr_svm, tpr_svm, lw=3, alpha=0.7, label='SVM (gamma = {:0.2f}, area = {:0.2f})'.format(g, roc_auc_svm))\n",
        "\n",
        "plt.xlabel('False Positive Rate', fontsize=16)\n",
        "plt.ylabel('True Positive Rate (Recall)', fontsize=16)\n",
        "plt.plot([0, 1], [0, 1], color='k', lw=0.5, linestyle='--')\n",
        "plt.legend(loc=\"lower right\", fontsize=11)\n",
        "plt.title('ROC curve: (1-of-10 digits classifier)', fontsize=16)\n",
        "plt.axes().set_aspect('equal')\n",
        "\n",
        "plt.show()"
      ],
      "execution_count": 0,
      "outputs": [
        {
          "output_type": "stream",
          "text": [
            "gamma = 1.00  accuracy = 1.00   AUC = 0.79\n"
          ],
          "name": "stdout"
        },
        {
          "output_type": "stream",
          "text": [
            "/usr/local/lib/python3.6/dist-packages/matplotlib/figure.py:98: MatplotlibDeprecationWarning: \n",
            "Adding an axes using the same arguments as a previous axes currently reuses the earlier instance.  In a future version, a new instance will always be created and returned.  Meanwhile, this warning can be suppressed, and the future behavior ensured, by passing a unique label to each axes instance.\n",
            "  \"Adding an axes using the same arguments as a previous axes \"\n"
          ],
          "name": "stderr"
        },
        {
          "output_type": "display_data",
          "data": {
            "image/png": "[encoded data removed]",
            "text/plain": [
              "<Figure size 432x288 with 1 Axes>"
            ]
          },
          "metadata": {
            "tags": []
          }
        }
      ]
    },
    {
      "cell_type": "code",
      "metadata": {
        "id": "k6uulOnqXZji",
        "colab_type": "code",
        "outputId": "6a80c85e-cb59-42c2-f8ef-3543f740c6cf",
        "colab": {
          "base_uri": "https://localhost:8080/",
          "height": 295
        }
      },
      "source": [
        "from matplotlib import cm\n",
        "import matplotlib.pyplot as plt\n",
        "from sklearn.metrics import roc_curve, auc\n",
        "dtc = DecisionTreeClassifier(max_depth=5)\n",
        "dtc.fit(x_train,y_train)\n",
        "\n",
        "y_scores = dtc.predict_proba(x_test)\n",
        "fpr, tpr, threshold = roc_curve(y_test, y_scores[:, 1])\n",
        "roc_auc = auc(fpr, tpr)\n",
        "\n",
        "plt.title('Receiver Operating Characteristic')\n",
        "plt.plot(fpr, tpr, 'b', label = 'AUC = %0.2f' % roc_auc)\n",
        "plt.legend(loc = 'lower right')\n",
        "plt.plot([0, 1], [0, 1],'r--')\n",
        "plt.xlim([0, 1])\n",
        "plt.ylim([0, 1])\n",
        "plt.ylabel('True Positive Rate')\n",
        "plt.xlabel('False Positive Rate')\n",
        "plt.title('ROC Curve of Decision Tree')\n",
        "plt.show()"
      ],
      "execution_count": 0,
      "outputs": [
        {
          "output_type": "display_data",
          "data": {
            "image/png": "[encoded data removed]",
            "text/plain": [
              "<Figure size 432x288 with 1 Axes>"
            ]
          },
          "metadata": {
            "tags": []
          }
        }
      ]
    },
    {
      "cell_type": "code",
      "metadata": {
        "id": "pDyTZmQLblc4",
        "colab_type": "code",
        "outputId": "8f06609e-7281-471d-c118-935be8394a2f",
        "colab": {
          "base_uri": "https://localhost:8080/",
          "height": 295
        }
      },
      "source": [
        "from matplotlib import cm\n",
        "import matplotlib.pyplot as plt\n",
        "from sklearn.metrics import roc_curve, auc\n",
        "\n",
        "model = GaussianNB()\n",
        "model.fit(x_train, y_train)\n",
        "\n",
        "y_score = model.predict_proba(x_test)\n",
        "fpr, tpr, threshold = roc_curve(y_test, y_score[:, 1])\n",
        "roc_auc = auc(fpr, tpr)\n",
        "\n",
        "plt.title('Receiver Operating Characteristic')\n",
        "plt.plot(fpr, tpr, 'b', label = 'AUC = %0.2f' % roc_auc)\n",
        "plt.legend(loc = 'lower right')\n",
        "plt.plot([0, 1], [0, 1],'r--')\n",
        "plt.xlim([0, 1])\n",
        "plt.ylim([0, 1])\n",
        "plt.ylabel('True Positive Rate')\n",
        "plt.xlabel('False Positive Rate')\n",
        "plt.title('ROC Curve of GAussian')\n",
        "plt.show()"
      ],
      "execution_count": 0,
      "outputs": [
        {
          "output_type": "display_data",
          "data": {
            "image/png": "[encoded data removed]",
            "text/plain": [
              "<Figure size 432x288 with 1 Axes>"
            ]
          },
          "metadata": {
            "tags": []
          }
        }
      ]
    },
    {
      "cell_type": "code",
      "metadata": {
        "id": "KzwQ_FmMcZNl",
        "colab_type": "code",
        "colab": {}
      },
      "source": [
        ""
      ],
      "execution_count": 0,
      "outputs": []
    }
  ]
}