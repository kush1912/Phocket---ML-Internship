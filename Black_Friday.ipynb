{
  "nbformat": 4,
  "nbformat_minor": 0,
  "metadata": {
    "colab": {
      "name": "Black Friday.ipynb",
      "version": "0.3.2",
      "provenance": [],
      "collapsed_sections": []
    },
    "language_info": {
      "codemirror_mode": {
        "name": "ipython",
        "version": 3
      },
      "file_extension": ".py",
      "mimetype": "text/x-python",
      "name": "python",
      "nbconvert_exporter": "python",
      "pygments_lexer": "ipython3",
      "version": "3.5.2"
    },
    "kernelspec": {
      "name": "python3",
      "display_name": "Python 3"
    },
    "accelerator": "GPU"
  },
  "cells": [
    {
      "cell_type": "code",
      "metadata": {
        "id": "H4It7ZJOuE5w",
        "colab_type": "code",
        "colab": {}
      },
      "source": [
        "import pandas as pd\n",
        "import numpy as np\n",
        "import matplotlib.pyplot as plt\n"
      ],
      "execution_count": 0,
      "outputs": []
    },
    {
      "cell_type": "code",
      "metadata": {
        "id": "OulMe1Mkc8Ze",
        "colab_type": "code",
        "colab": {}
      },
      "source": [
        "data = pd.read_csv(\"black friday sample data.csv\")"
      ],
      "execution_count": 0,
      "outputs": []
    },
    {
      "cell_type": "code",
      "metadata": {
        "id": "MxT_cXEWuE6D",
        "colab_type": "code",
        "outputId": "1abe00a3-a28d-4092-d8a2-cbff2668545a",
        "colab": {
          "base_uri": "https://localhost:8080/",
          "height": 532
        }
      },
      "source": [
        "data.head(10)"
      ],
      "execution_count": 0,
      "outputs": [
        {
          "output_type": "execute_result",
          "data": {
            "text/html": [
              "<div>\n",
              "<style scoped>\n",
              "    .dataframe tbody tr th:only-of-type {\n",
              "        vertical-align: middle;\n",
              "    }\n",
              "\n",
              "    .dataframe tbody tr th {\n",
              "        vertical-align: top;\n",
              "    }\n",
              "\n",
              "    .dataframe thead th {\n",
              "        text-align: right;\n",
              "    }\n",
              "</style>\n",
              "<table border=\"1\" class=\"dataframe\">\n",
              "  <thead>\n",
              "    <tr style=\"text-align: right;\">\n",
              "      <th></th>\n",
              "      <th>User_ID</th>\n",
              "      <th>Product_ID</th>\n",
              "      <th>Gender</th>\n",
              "      <th>Age</th>\n",
              "      <th>Occupation</th>\n",
              "      <th>City_Category</th>\n",
              "      <th>Stay_In_Current_City_Years</th>\n",
              "      <th>Marital_Status</th>\n",
              "      <th>Product_Category_1</th>\n",
              "      <th>Product_Category_2</th>\n",
              "      <th>Product_Category_3</th>\n",
              "      <th>Purchase</th>\n",
              "    </tr>\n",
              "  </thead>\n",
              "  <tbody>\n",
              "    <tr>\n",
              "      <th>0</th>\n",
              "      <td>1000001</td>\n",
              "      <td>P00069042</td>\n",
              "      <td>F</td>\n",
              "      <td>0-17</td>\n",
              "      <td>10</td>\n",
              "      <td>A</td>\n",
              "      <td>2</td>\n",
              "      <td>0</td>\n",
              "      <td>3</td>\n",
              "      <td>NaN</td>\n",
              "      <td>NaN</td>\n",
              "      <td>8370</td>\n",
              "    </tr>\n",
              "    <tr>\n",
              "      <th>1</th>\n",
              "      <td>1000001</td>\n",
              "      <td>P00248942</td>\n",
              "      <td>F</td>\n",
              "      <td>0-17</td>\n",
              "      <td>10</td>\n",
              "      <td>A</td>\n",
              "      <td>2</td>\n",
              "      <td>0</td>\n",
              "      <td>1</td>\n",
              "      <td>6.0</td>\n",
              "      <td>14.0</td>\n",
              "      <td>15200</td>\n",
              "    </tr>\n",
              "    <tr>\n",
              "      <th>2</th>\n",
              "      <td>1000001</td>\n",
              "      <td>P00087842</td>\n",
              "      <td>F</td>\n",
              "      <td>0-17</td>\n",
              "      <td>10</td>\n",
              "      <td>A</td>\n",
              "      <td>2</td>\n",
              "      <td>0</td>\n",
              "      <td>12</td>\n",
              "      <td>NaN</td>\n",
              "      <td>NaN</td>\n",
              "      <td>1422</td>\n",
              "    </tr>\n",
              "    <tr>\n",
              "      <th>3</th>\n",
              "      <td>1000001</td>\n",
              "      <td>P00085442</td>\n",
              "      <td>F</td>\n",
              "      <td>0-17</td>\n",
              "      <td>10</td>\n",
              "      <td>A</td>\n",
              "      <td>2</td>\n",
              "      <td>0</td>\n",
              "      <td>12</td>\n",
              "      <td>14.0</td>\n",
              "      <td>NaN</td>\n",
              "      <td>1057</td>\n",
              "    </tr>\n",
              "    <tr>\n",
              "      <th>4</th>\n",
              "      <td>1000002</td>\n",
              "      <td>P00285442</td>\n",
              "      <td>M</td>\n",
              "      <td>55+</td>\n",
              "      <td>16</td>\n",
              "      <td>C</td>\n",
              "      <td>4+</td>\n",
              "      <td>0</td>\n",
              "      <td>8</td>\n",
              "      <td>NaN</td>\n",
              "      <td>NaN</td>\n",
              "      <td>7969</td>\n",
              "    </tr>\n",
              "    <tr>\n",
              "      <th>5</th>\n",
              "      <td>1000003</td>\n",
              "      <td>P00193542</td>\n",
              "      <td>M</td>\n",
              "      <td>26-35</td>\n",
              "      <td>15</td>\n",
              "      <td>A</td>\n",
              "      <td>3</td>\n",
              "      <td>0</td>\n",
              "      <td>1</td>\n",
              "      <td>2.0</td>\n",
              "      <td>NaN</td>\n",
              "      <td>15227</td>\n",
              "    </tr>\n",
              "    <tr>\n",
              "      <th>6</th>\n",
              "      <td>1000004</td>\n",
              "      <td>P00184942</td>\n",
              "      <td>M</td>\n",
              "      <td>46-50</td>\n",
              "      <td>7</td>\n",
              "      <td>B</td>\n",
              "      <td>2</td>\n",
              "      <td>1</td>\n",
              "      <td>1</td>\n",
              "      <td>8.0</td>\n",
              "      <td>17.0</td>\n",
              "      <td>19215</td>\n",
              "    </tr>\n",
              "    <tr>\n",
              "      <th>7</th>\n",
              "      <td>1000004</td>\n",
              "      <td>P00346142</td>\n",
              "      <td>M</td>\n",
              "      <td>46-50</td>\n",
              "      <td>7</td>\n",
              "      <td>B</td>\n",
              "      <td>2</td>\n",
              "      <td>1</td>\n",
              "      <td>1</td>\n",
              "      <td>15.0</td>\n",
              "      <td>NaN</td>\n",
              "      <td>15854</td>\n",
              "    </tr>\n",
              "    <tr>\n",
              "      <th>8</th>\n",
              "      <td>1000004</td>\n",
              "      <td>P0097242</td>\n",
              "      <td>M</td>\n",
              "      <td>46-50</td>\n",
              "      <td>7</td>\n",
              "      <td>B</td>\n",
              "      <td>2</td>\n",
              "      <td>1</td>\n",
              "      <td>1</td>\n",
              "      <td>16.0</td>\n",
              "      <td>NaN</td>\n",
              "      <td>15686</td>\n",
              "    </tr>\n",
              "    <tr>\n",
              "      <th>9</th>\n",
              "      <td>1000005</td>\n",
              "      <td>P00274942</td>\n",
              "      <td>M</td>\n",
              "      <td>26-35</td>\n",
              "      <td>20</td>\n",
              "      <td>A</td>\n",
              "      <td>1</td>\n",
              "      <td>1</td>\n",
              "      <td>8</td>\n",
              "      <td>NaN</td>\n",
              "      <td>NaN</td>\n",
              "      <td>7871</td>\n",
              "    </tr>\n",
              "  </tbody>\n",
              "</table>\n",
              "</div>"
            ],
            "text/plain": [
              "   User_ID Product_ID Gender  ... Product_Category_2  Product_Category_3 Purchase\n",
              "0  1000001  P00069042      F  ...                NaN                 NaN     8370\n",
              "1  1000001  P00248942      F  ...                6.0                14.0    15200\n",
              "2  1000001  P00087842      F  ...                NaN                 NaN     1422\n",
              "3  1000001  P00085442      F  ...               14.0                 NaN     1057\n",
              "4  1000002  P00285442      M  ...                NaN                 NaN     7969\n",
              "5  1000003  P00193542      M  ...                2.0                 NaN    15227\n",
              "6  1000004  P00184942      M  ...                8.0                17.0    19215\n",
              "7  1000004  P00346142      M  ...               15.0                 NaN    15854\n",
              "8  1000004   P0097242      M  ...               16.0                 NaN    15686\n",
              "9  1000005  P00274942      M  ...                NaN                 NaN     7871\n",
              "\n",
              "[10 rows x 12 columns]"
            ]
          },
          "metadata": {
            "tags": []
          },
          "execution_count": 55
        }
      ]
    },
    {
      "cell_type": "code",
      "metadata": {
        "id": "1tQD9nHyuE6R",
        "colab_type": "code",
        "outputId": "79ea74cd-1a08-4621-aa86-819deb4f68eb",
        "colab": {
          "base_uri": "https://localhost:8080/",
          "height": 34
        }
      },
      "source": [
        "print(data.shape)"
      ],
      "execution_count": 0,
      "outputs": [
        {
          "output_type": "stream",
          "text": [
            "(537577, 12)\n"
          ],
          "name": "stdout"
        }
      ]
    },
    {
      "cell_type": "code",
      "metadata": {
        "id": "oltmv7-bv_IC",
        "colab_type": "code",
        "outputId": "aa5732a0-4408-4cb0-9ff8-44d7cba264d6",
        "colab": {
          "base_uri": "https://localhost:8080/",
          "height": 34
        }
      },
      "source": [
        "#checking for null values in different fields\n",
        "\n",
        "print(type(data.isnull().sum()))"
      ],
      "execution_count": 0,
      "outputs": [
        {
          "output_type": "stream",
          "text": [
            "<class 'pandas.core.series.Series'>\n"
          ],
          "name": "stdout"
        }
      ]
    },
    {
      "cell_type": "code",
      "metadata": {
        "id": "ZFNS8HX5wnx8",
        "colab_type": "code",
        "outputId": "feb01ef0-bbc4-4b7e-d76c-e385eee23449",
        "colab": {
          "base_uri": "https://localhost:8080/",
          "height": 34
        }
      },
      "source": [
        "m1 = data['Product_Category_2'].mean()\n",
        "m2 = data['Product_Category_3'].mean()\n",
        "print(m1,m2)"
      ],
      "execution_count": 0,
      "outputs": [
        {
          "output_type": "stream",
          "text": [
            "9.842144034798471 12.669840149015693\n"
          ],
          "name": "stdout"
        }
      ]
    },
    {
      "cell_type": "code",
      "metadata": {
        "id": "wA78puFD0cJv",
        "colab_type": "code",
        "outputId": "6ff02e35-7335-481c-ecf5-0f5ff7a63bc8",
        "colab": {
          "base_uri": "https://localhost:8080/",
          "height": 317
        }
      },
      "source": [
        "data['Product_Category_2'] = data['Product_Category_2'].fillna(m1)\n",
        "data['Product_Category_3'] = data['Product_Category_3'].fillna(m2)\n",
        "data.describe()"
      ],
      "execution_count": 0,
      "outputs": [
        {
          "output_type": "execute_result",
          "data": {
            "text/html": [
              "<div>\n",
              "<style scoped>\n",
              "    .dataframe tbody tr th:only-of-type {\n",
              "        vertical-align: middle;\n",
              "    }\n",
              "\n",
              "    .dataframe tbody tr th {\n",
              "        vertical-align: top;\n",
              "    }\n",
              "\n",
              "    .dataframe thead th {\n",
              "        text-align: right;\n",
              "    }\n",
              "</style>\n",
              "<table border=\"1\" class=\"dataframe\">\n",
              "  <thead>\n",
              "    <tr style=\"text-align: right;\">\n",
              "      <th></th>\n",
              "      <th>User_ID</th>\n",
              "      <th>Occupation</th>\n",
              "      <th>Marital_Status</th>\n",
              "      <th>Product_Category_1</th>\n",
              "      <th>Product_Category_2</th>\n",
              "      <th>Product_Category_3</th>\n",
              "      <th>Purchase</th>\n",
              "    </tr>\n",
              "  </thead>\n",
              "  <tbody>\n",
              "    <tr>\n",
              "      <th>count</th>\n",
              "      <td>5.375770e+05</td>\n",
              "      <td>537577.00000</td>\n",
              "      <td>537577.000000</td>\n",
              "      <td>537577.000000</td>\n",
              "      <td>537577.000000</td>\n",
              "      <td>537577.000000</td>\n",
              "      <td>537577.000000</td>\n",
              "    </tr>\n",
              "    <tr>\n",
              "      <th>mean</th>\n",
              "      <td>1.002992e+06</td>\n",
              "      <td>8.08271</td>\n",
              "      <td>0.408797</td>\n",
              "      <td>5.295546</td>\n",
              "      <td>9.842144</td>\n",
              "      <td>12.669840</td>\n",
              "      <td>9333.859853</td>\n",
              "    </tr>\n",
              "    <tr>\n",
              "      <th>std</th>\n",
              "      <td>1.714393e+03</td>\n",
              "      <td>6.52412</td>\n",
              "      <td>0.491612</td>\n",
              "      <td>3.750701</td>\n",
              "      <td>4.223872</td>\n",
              "      <td>2.279938</td>\n",
              "      <td>4981.022133</td>\n",
              "    </tr>\n",
              "    <tr>\n",
              "      <th>min</th>\n",
              "      <td>1.000001e+06</td>\n",
              "      <td>0.00000</td>\n",
              "      <td>0.000000</td>\n",
              "      <td>1.000000</td>\n",
              "      <td>2.000000</td>\n",
              "      <td>3.000000</td>\n",
              "      <td>185.000000</td>\n",
              "    </tr>\n",
              "    <tr>\n",
              "      <th>25%</th>\n",
              "      <td>1.001495e+06</td>\n",
              "      <td>2.00000</td>\n",
              "      <td>0.000000</td>\n",
              "      <td>1.000000</td>\n",
              "      <td>8.000000</td>\n",
              "      <td>12.669840</td>\n",
              "      <td>5866.000000</td>\n",
              "    </tr>\n",
              "    <tr>\n",
              "      <th>50%</th>\n",
              "      <td>1.003031e+06</td>\n",
              "      <td>7.00000</td>\n",
              "      <td>0.000000</td>\n",
              "      <td>5.000000</td>\n",
              "      <td>9.842144</td>\n",
              "      <td>12.669840</td>\n",
              "      <td>8062.000000</td>\n",
              "    </tr>\n",
              "    <tr>\n",
              "      <th>75%</th>\n",
              "      <td>1.004417e+06</td>\n",
              "      <td>14.00000</td>\n",
              "      <td>1.000000</td>\n",
              "      <td>8.000000</td>\n",
              "      <td>14.000000</td>\n",
              "      <td>12.669840</td>\n",
              "      <td>12073.000000</td>\n",
              "    </tr>\n",
              "    <tr>\n",
              "      <th>max</th>\n",
              "      <td>1.006040e+06</td>\n",
              "      <td>20.00000</td>\n",
              "      <td>1.000000</td>\n",
              "      <td>18.000000</td>\n",
              "      <td>18.000000</td>\n",
              "      <td>18.000000</td>\n",
              "      <td>23961.000000</td>\n",
              "    </tr>\n",
              "  </tbody>\n",
              "</table>\n",
              "</div>"
            ],
            "text/plain": [
              "            User_ID    Occupation  ...  Product_Category_3       Purchase\n",
              "count  5.375770e+05  537577.00000  ...       537577.000000  537577.000000\n",
              "mean   1.002992e+06       8.08271  ...           12.669840    9333.859853\n",
              "std    1.714393e+03       6.52412  ...            2.279938    4981.022133\n",
              "min    1.000001e+06       0.00000  ...            3.000000     185.000000\n",
              "25%    1.001495e+06       2.00000  ...           12.669840    5866.000000\n",
              "50%    1.003031e+06       7.00000  ...           12.669840    8062.000000\n",
              "75%    1.004417e+06      14.00000  ...           12.669840   12073.000000\n",
              "max    1.006040e+06      20.00000  ...           18.000000   23961.000000\n",
              "\n",
              "[8 rows x 7 columns]"
            ]
          },
          "metadata": {
            "tags": []
          },
          "execution_count": 59
        }
      ]
    },
    {
      "cell_type": "code",
      "metadata": {
        "id": "o2QIQVMVa4Jn",
        "colab_type": "code",
        "colab": {}
      },
      "source": [
        "def scatter_plot(feature, target):\n",
        "  plt.figure(figsize = (8,6))\n",
        "  plt.scatter( data[feature],data[target], c = 'black')\n",
        "  plt.xlabel(\"Independent variables - {}\".format(feature))\n",
        "  plt.ylabel(\"Purchase\")\n",
        "  plt.show()"
      ],
      "execution_count": 0,
      "outputs": []
    },
    {
      "cell_type": "code",
      "metadata": {
        "id": "QaSd6GgDbxvm",
        "colab_type": "code",
        "outputId": "150c045f-e2f5-4ae3-e5c7-928462ee7955",
        "colab": {
          "base_uri": "https://localhost:8080/",
          "height": 392
        }
      },
      "source": [
        "scatter_plot('Product_Category_1','Purchase')"
      ],
      "execution_count": 0,
      "outputs": [
        {
          "output_type": "display_data",
          "data": {
            "image/png": "[encoded data removed]",
            "text/plain": [
              "<Figure size 576x432 with 1 Axes>"
            ]
          },
          "metadata": {
            "tags": []
          }
        }
      ]
    },
    {
      "cell_type": "code",
      "metadata": {
        "id": "kEZtoglNc-6N",
        "colab_type": "code",
        "outputId": "3971b909-8fe1-416b-f662-712e8bb41414",
        "colab": {
          "base_uri": "https://localhost:8080/",
          "height": 392
        }
      },
      "source": [
        "scatter_plot('Product_Category_2','Purchase')"
      ],
      "execution_count": 0,
      "outputs": [
        {
          "output_type": "display_data",
          "data": {
            "image/png": "[encoded data removed]",
            "text/plain": [
              "<Figure size 576x432 with 1 Axes>"
            ]
          },
          "metadata": {
            "tags": []
          }
        }
      ]
    },
    {
      "cell_type": "code",
      "metadata": {
        "id": "Fb_VaO1YdCq5",
        "colab_type": "code",
        "outputId": "bdc92e23-5a53-4b95-a371-a556e27ebabf",
        "colab": {
          "base_uri": "https://localhost:8080/",
          "height": 392
        }
      },
      "source": [
        "scatter_plot('Product_Category_3','Purchase')"
      ],
      "execution_count": 0,
      "outputs": [
        {
          "output_type": "display_data",
          "data": {
            "image/png": "[encoded data removed]",
            "text/plain": [
              "<Figure size 576x432 with 1 Axes>"
            ]
          },
          "metadata": {
            "tags": []
          }
        }
      ]
    },
    {
      "cell_type": "code",
      "metadata": {
        "id": "PEalZyyG074H",
        "colab_type": "code",
        "colab": {}
      },
      "source": [
        "x = data.iloc[:,0:11]"
      ],
      "execution_count": 0,
      "outputs": []
    },
    {
      "cell_type": "code",
      "metadata": {
        "id": "e613V_021bng",
        "colab_type": "code",
        "colab": {}
      },
      "source": [
        "#All the values have been converted into numerical values\n",
        "from sklearn.preprocessing import LabelEncoder\n",
        "l = LabelEncoder()\n",
        "x =x.apply(l.fit_transform)"
      ],
      "execution_count": 0,
      "outputs": []
    },
    {
      "cell_type": "code",
      "metadata": {
        "id": "tsN9nMuf2vTp",
        "colab_type": "code",
        "colab": {}
      },
      "source": [
        "#Feature Scaling\n",
        "from sklearn.preprocessing import StandardScaler\n",
        "fs = StandardScaler()\n",
        "x = fs.fit_transform(x)\n",
        "#print(type(x))\n",
        "y = data['Purchase']"
      ],
      "execution_count": 0,
      "outputs": []
    },
    {
      "cell_type": "code",
      "metadata": {
        "id": "4tyE0PamKORz",
        "colab_type": "code",
        "outputId": "d561f165-fa6e-46f1-f504-3779e31c68b5",
        "colab": {
          "base_uri": "https://localhost:8080/",
          "height": 428
        }
      },
      "source": [
        "#Accuracy without PCA\n",
        "from sklearn.model_selection import train_test_split \n",
        "x_train, x_test, y_train, y_test = train_test_split(x, y, random_state=2, test_size = 0.20)\n",
        "d = model_selection(x_train,x_test,y_train,y_test)\n",
        "d = sorted(d.items(), key=lambda x: x[1], reverse=True)\n",
        "\n",
        "for i in d:\n",
        "  print(i)"
      ],
      "execution_count": 0,
      "outputs": [
        {
          "output_type": "stream",
          "text": [
            "/usr/local/lib/python3.6/dist-packages/sklearn/ensemble/forest.py:245: FutureWarning: The default value of n_estimators will change from 10 in version 0.20 to 100 in 0.22.\n",
            "  \"10 in version 0.20 to 100 in 0.22.\", FutureWarning)\n"
          ],
          "name": "stderr"
        },
        {
          "output_type": "stream",
          "text": [
            "Accuracy Score of Linear regression on train set 11.707294023800053\n",
            "Accuracy Score of Decision Tree on train set 100.0\n",
            "Accuracy Score of Random Forests on train set 94.19491152198745\n",
            "Accuracy Score of Gradient Boosting on train set 65.46317593405051\n",
            "Accuracy Score of Ridge Regression on train set 11.707294023799953\n",
            "\n",
            "\n",
            "\n",
            "Accuracy Score of Linear regression on test set 12.107297024124474\n",
            "Accuracy Score of Decision Tree on test set 42.317373726899376\n",
            "Accuracy Score of Random Forests on test set 67.07919906508904\n",
            "Accuracy Score of Gradient Boosting on testset 65.30424183678613\n",
            "Accuracy Score of Ridge Regression on test set 12.107296985605553\n",
            "\n",
            "\n",
            "\n",
            "('Random_Forests', 67.07919906508904)\n",
            "('Gradient_Boosting', 65.30424183678613)\n",
            "('Decision_Tree', 42.317373726899376)\n",
            "('Linear_regression', 12.107297024124474)\n",
            "('Ridge_Regression', 12.107296985605553)\n"
          ],
          "name": "stdout"
        }
      ]
    },
    {
      "cell_type": "code",
      "metadata": {
        "id": "7qiglpVi4LfF",
        "colab_type": "code",
        "colab": {}
      },
      "source": [
        "#Dimensionality Reduction\n",
        "from sklearn.decomposition import PCA\n",
        "pc = PCA(4)\n",
        "components = pc.fit_transform(x)\n",
        "#components"
      ],
      "execution_count": 0,
      "outputs": []
    },
    {
      "cell_type": "code",
      "metadata": {
        "id": "fYVPTQ_r8jbZ",
        "colab_type": "code",
        "colab": {}
      },
      "source": [
        "df = pd.DataFrame(data = components, columns = [\"component 1\", \"component 2\", \"component 3\", \"component 4\"])"
      ],
      "execution_count": 0,
      "outputs": []
    },
    {
      "cell_type": "code",
      "metadata": {
        "id": "_hCJPkJiCFgK",
        "colab_type": "code",
        "colab": {}
      },
      "source": [
        "dataset = pd.concat([df, data[['Purchase']]], axis = 1)"
      ],
      "execution_count": 0,
      "outputs": []
    },
    {
      "cell_type": "code",
      "metadata": {
        "id": "Msn4o13jEicb",
        "colab_type": "code",
        "colab": {}
      },
      "source": [
        "from sklearn.linear_model import LinearRegression\n",
        "from sklearn.tree import DecisionTreeRegressor\n",
        "from sklearn.preprocessing import PolynomialFeatures\n",
        "from sklearn.ensemble import RandomForestRegressor\n",
        "from sklearn.ensemble import GradientBoostingRegressor\n",
        "from sklearn.linear_model import Ridge\n",
        "\n",
        "d = {}\n",
        "\n",
        "def model_selection(X_train,X_test,y_train,y_test):\n",
        "  d = {}\n",
        "  lr = LinearRegression()\n",
        "  dtr = DecisionTreeRegressor()\n",
        "  rfr = RandomForestRegressor()\n",
        "  gbr = GradientBoostingRegressor()\n",
        "  ply = PolynomialFeatures()\n",
        "  rr = Ridge(alpha=0.05)\n",
        "  \n",
        "  fit1 = lr.fit(X_train,y_train)\n",
        "  fit2 = dtr.fit(X_train,y_train)\n",
        "  fit3 = rfr.fit(X_train,y_train)\n",
        "  fit4 = gbr.fit(X_train,y_train)\n",
        "  fit5 = rr.fit(X_train,y_train)\n",
        "  \n",
        "  \n",
        "  print(\"Accuracy Score of Linear regression on train set\",fit1.score(X_train,y_train)*100)\n",
        "  print(\"Accuracy Score of Decision Tree on train set\",fit2.score(X_train,y_train)*100)\n",
        "  print(\"Accuracy Score of Random Forests on train set\",fit3.score(X_train,y_train)*100)\n",
        "  print(\"Accuracy Score of Gradient Boosting on train set\",fit4.score(X_train,y_train)*100)\n",
        "  print(\"Accuracy Score of Ridge Regression on train set\",fit5.score(X_train,y_train)*100)\n",
        "  print('\\n\\n')\n",
        "  \n",
        "  print(\"Accuracy Score of Linear regression on test set\",fit1.score(X_test,y_test)*100)\n",
        "  d.update( Linear_regression = fit1.score(x_test,y_test)*100)\n",
        "  print(\"Accuracy Score of Decision Tree on test set\",fit2.score(X_test,y_test)*100)\n",
        "  d.update( Decision_Tree = fit2.score(x_test,y_test)*100)\n",
        "  print(\"Accuracy Score of Random Forests on test set\",fit3.score(X_test,y_test)*100)\n",
        "  d.update(  Random_Forests = fit3.score(x_test,y_test)*100)\n",
        "  print(\"Accuracy Score of Gradient Boosting on testset\",fit4.score(X_test,y_test)*100)\n",
        "  d.update( Gradient_Boosting = fit4.score(x_test,y_test)*100)\n",
        "  print(\"Accuracy Score of Ridge Regression on test set\",fit5.score(X_test,y_test)*100)\n",
        "  d.update( Ridge_Regression = fit5.score(x_test,y_test)*100)\n",
        "  print('\\n\\n')\n",
        "  \n",
        "  return d\n",
        "  "
      ],
      "execution_count": 0,
      "outputs": []
    },
    {
      "cell_type": "code",
      "metadata": {
        "id": "8jqyW_NHCkgt",
        "colab_type": "code",
        "outputId": "1e74a726-3937-4df2-c9ad-27bd6bb33384",
        "colab": {
          "base_uri": "https://localhost:8080/",
          "height": 428
        }
      },
      "source": [
        "#Accuracy with PCA\n",
        "x_d = dataset.iloc[:,0:4]\n",
        "y_d = dataset['Purchase']\n",
        "from sklearn.model_selection import train_test_split \n",
        "x_train, x_test, y_train, y_test = train_test_split(x_d, y_d, random_state=2, test_size = 0.20)\n",
        "d = model_selection(x_train,x_test,y_train,y_test)\n",
        "d = sorted(d.items(), key=lambda x: x[1], reverse=True)\n",
        "\n",
        "for i in d:\n",
        "  print(i)"
      ],
      "execution_count": 0,
      "outputs": [
        {
          "output_type": "stream",
          "text": [
            "/usr/local/lib/python3.6/dist-packages/sklearn/ensemble/forest.py:245: FutureWarning: The default value of n_estimators will change from 10 in version 0.20 to 100 in 0.22.\n",
            "  \"10 in version 0.20 to 100 in 0.22.\", FutureWarning)\n"
          ],
          "name": "stderr"
        },
        {
          "output_type": "stream",
          "text": [
            "Accuracy Score of Linear regression on train set 8.573379605911269\n",
            "Accuracy Score of Decision Tree on train set 100.0\n",
            "Accuracy Score of Random Forests on train set 85.69339003559465\n",
            "Accuracy Score of Gradient Boosting on train set 12.301941637836245\n",
            "Accuracy Score of Ridge Regression on train set 8.57337960591117\n",
            "\n",
            "\n",
            "\n",
            "Accuracy Score of Linear regression on test set 8.841835622643423\n",
            "Accuracy Score of Decision Tree on test set -39.90929492398148\n",
            "Accuracy Score of Random Forests on test set 19.18658326010756\n",
            "Accuracy Score of Gradient Boosting on testset 12.238762169080196\n",
            "Accuracy Score of Ridge Regression on test set 8.841835605886128\n",
            "\n",
            "\n",
            "\n",
            "('Random_Forests', 19.18658326010756)\n",
            "('Gradient_Boosting', 12.238762169080196)\n",
            "('Linear_regression', 8.841835622643423)\n",
            "('Ridge_Regression', 8.841835605886128)\n",
            "('Decision_Tree', -39.90929492398148)\n"
          ],
          "name": "stdout"
        }
      ]
    }
  ]
}